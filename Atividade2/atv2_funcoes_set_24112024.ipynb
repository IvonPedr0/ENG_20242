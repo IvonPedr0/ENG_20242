{
  "nbformat": 4,
  "nbformat_minor": 0,
  "metadata": {
    "colab": {
      "provenance": [],
      "authorship_tag": "ABX9TyM4gj7s4yyMy4YXG8wDnquL",
      "include_colab_link": true
    },
    "kernelspec": {
      "name": "python3",
      "display_name": "Python 3"
    },
    "language_info": {
      "name": "python"
    }
  },
  "cells": [
    {
      "cell_type": "markdown",
      "metadata": {
        "id": "view-in-github",
        "colab_type": "text"
      },
      "source": [
        "<a href=\"https://colab.research.google.com/github/IvonPedr0/ENG_20242/blob/main/Atividade2/atv2_funcoes_set_24112024.ipynb\" target=\"_parent\"><img src=\"https://colab.research.google.com/assets/colab-badge.svg\" alt=\"Open In Colab\"/></a>"
      ]
    },
    {
      "cell_type": "markdown",
      "source": [
        "# **Atividades 31/10**"
      ],
      "metadata": {
        "id": "-STJEHuJuoTS"
      }
    },
    {
      "cell_type": "markdown",
      "source": [
        "* FUNÇÕES\n",
        "\n",
        "\n",
        "\n",
        "\n"
      ],
      "metadata": {
        "id": "k0VN7lO4ydh4"
      }
    },
    {
      "cell_type": "code",
      "source": [
        "# 1 - Crie uma função para que o usuário digite o seu nome e a sua cidade. O programa deve exibir \"Olá, [nome]! Você vive em [cidade].\n",
        "def cidade(nome,cidade):\n",
        "    print(f'Olá, {nome}! Você vive em {cidade}.')\n",
        "\n",
        "# 2 - Crie uma função para que o usuário digite o comprimento e a largura de um retângulo. O programa deve exibir a área e o perímetro do retângulo.\n",
        "def complargretangulo(base,altura):\n",
        "    area = base * altura\n",
        "    perimetro = 2 * (base + altura)\n",
        "    print(f'A área do retângulo é {area:.2f} e o perímetro é {perimetro:.2f}.')\n",
        "\n",
        "# 3 - Crie uma função para que o usuário digite uma medida em metros. O programa deve converter essa medida para centímetros e milímetros e exibir o resultado.\n",
        "def convertmedidas(medida):\n",
        "    cm = metros * 100\n",
        "    mm = metros * 1000\n",
        "\n",
        "#4 - Crie uma função que receba uma lista de strings como entrada e retorne a lista contendo o tamanho de cada string.\n",
        "\n",
        "\n",
        "#5 - Escreva uma função que receba duas listas como entrada e retorne uma nova lista contendo apenas os elementos que são comuns a ambas as listas.\n",
        "\n",
        "\n",
        "#6 - Crie uma função que receba uma lista como entrada e retorne uma nova lista contendo apenas os elementos únicos (sem repetição) da lista original.\n",
        "\n",
        "\n",
        "#7 - Escreva uma função que receba uma lista de números como entrada e retorne uma lista contendo apenas os números pares da lista original.\n",
        "\n",
        "\n",
        "#8 - Crie uma função que receba uma lista de números como entrada e retorne o maior elemento da lista.\n",
        "\n",
        "\n",
        "#9 - Escreva uma função que receba uma lista como entrada e retorne True se a lista estiver ordenada de forma crescente, e False caso contrário.\n",
        "\n",
        "\n",
        "#10 - Crie uma função que receba duas listas como entrada e retorne True se uma lista for subconjunto da outra, e False caso contrário.\n"
      ],
      "metadata": {
        "id": "WK-GlnUDymQN"
      },
      "execution_count": null,
      "outputs": []
    },
    {
      "cell_type": "markdown",
      "source": [
        "* EXECUÇÕES"
      ],
      "metadata": {
        "id": "oqyip0UGzF8i"
      }
    },
    {
      "cell_type": "markdown",
      "source": [
        "1 - Crie uma função para que o usuário digite o seu nome e a sua cidade. O programa deve exibir \"Olá, [nome]! Você vive em [cidade]."
      ],
      "metadata": {
        "id": "-0NO7-Ilt8fz"
      }
    },
    {
      "cell_type": "code",
      "source": [
        "#Execução da função\n",
        "name = input('Digite seu nome: ')\n",
        "city = input('Digite sua cidade: ')\n",
        "cidade(name,city)"
      ],
      "metadata": {
        "colab": {
          "base_uri": "https://localhost:8080/"
        },
        "id": "c28D_lk0wAut",
        "outputId": "65fff918-3724-4f24-8052-96a68f78d23b"
      },
      "execution_count": null,
      "outputs": [
        {
          "output_type": "stream",
          "name": "stdout",
          "text": [
            "Digite seu nome: Ivon\n",
            "Digite sua cidade: Vitória\n",
            "Olá, Ivon! Você vive em Vitória.\n"
          ]
        }
      ]
    },
    {
      "cell_type": "markdown",
      "source": [
        "2 - Crie uma função para que o usuário digite o comprimento e a largura de um retângulo. O programa deve exibir a área e o perímetro do retângulo."
      ],
      "metadata": {
        "id": "7U9SAVuOuR_5"
      }
    },
    {
      "cell_type": "code",
      "source": [
        "#Execução da função\n",
        "\n",
        "comprimento = float(input('Digite o comprimento do retângulo: '))\n",
        "largura = float(input('Digite a largura do retângulo: '))\n",
        "complargretangulo(comprimento,largura)"
      ],
      "metadata": {
        "colab": {
          "base_uri": "https://localhost:8080/"
        },
        "id": "t8JyNL94vX7a",
        "outputId": "64420779-abb8-49fe-c95d-570fa43fecc0"
      },
      "execution_count": null,
      "outputs": [
        {
          "output_type": "stream",
          "name": "stdout",
          "text": [
            "Digite o comprimento do retângulo: 36.74\n",
            "Digite a largura do retângulo: 31.20\n",
            "A área do retângulo é 1146.29 e o perímetro é 135.88.\n"
          ]
        }
      ]
    },
    {
      "cell_type": "markdown",
      "source": [
        "3 - Crie uma função para que o usuário digite uma medida em metros. O programa deve converter essa medida para centímetros e milímetros e exibir o resultado."
      ],
      "metadata": {
        "id": "TXBzq3iqunG7"
      }
    },
    {
      "cell_type": "code",
      "source": [
        "#Execução da função\n",
        "\n",
        "metros = float(input('Digite uma medida em metros: '))\n",
        "cm,mm = convertmedidas(metros)\n",
        "print(f'{metros}m equivale a {cm}cm e {mm}mm.')"
      ],
      "metadata": {
        "colab": {
          "base_uri": "https://localhost:8080/",
          "height": 211
        },
        "id": "COy8CRZCxaPe",
        "outputId": "3a15438f-4c5a-4979-9bcb-68981faf2ca3"
      },
      "execution_count": null,
      "outputs": [
        {
          "name": "stdout",
          "output_type": "stream",
          "text": [
            "Digite uma medida em metros: 3\n"
          ]
        },
        {
          "output_type": "error",
          "ename": "TypeError",
          "evalue": "cannot unpack non-iterable NoneType object",
          "traceback": [
            "\u001b[0;31m---------------------------------------------------------------------------\u001b[0m",
            "\u001b[0;31mTypeError\u001b[0m                                 Traceback (most recent call last)",
            "\u001b[0;32m<ipython-input-19-8ab2ac897853>\u001b[0m in \u001b[0;36m<cell line: 4>\u001b[0;34m()\u001b[0m\n\u001b[1;32m      2\u001b[0m \u001b[0;34m\u001b[0m\u001b[0m\n\u001b[1;32m      3\u001b[0m \u001b[0mmetros\u001b[0m \u001b[0;34m=\u001b[0m \u001b[0mfloat\u001b[0m\u001b[0;34m(\u001b[0m\u001b[0minput\u001b[0m\u001b[0;34m(\u001b[0m\u001b[0;34m'Digite uma medida em metros: '\u001b[0m\u001b[0;34m)\u001b[0m\u001b[0;34m)\u001b[0m\u001b[0;34m\u001b[0m\u001b[0;34m\u001b[0m\u001b[0m\n\u001b[0;32m----> 4\u001b[0;31m \u001b[0mcm\u001b[0m\u001b[0;34m,\u001b[0m\u001b[0mmm\u001b[0m \u001b[0;34m=\u001b[0m \u001b[0mconvertmedidas\u001b[0m\u001b[0;34m(\u001b[0m\u001b[0mmetros\u001b[0m\u001b[0;34m)\u001b[0m\u001b[0;34m\u001b[0m\u001b[0;34m\u001b[0m\u001b[0m\n\u001b[0m\u001b[1;32m      5\u001b[0m \u001b[0mprint\u001b[0m\u001b[0;34m(\u001b[0m\u001b[0;34mf'{metros}m equivale a {cm}cm e {mm}mm.'\u001b[0m\u001b[0;34m)\u001b[0m\u001b[0;34m\u001b[0m\u001b[0;34m\u001b[0m\u001b[0m\n",
            "\u001b[0;31mTypeError\u001b[0m: cannot unpack non-iterable NoneType object"
          ]
        }
      ]
    },
    {
      "cell_type": "markdown",
      "source": [
        "4 - Crie uma função para que o usuário digite a largura e a altura de um retângulo. O programa deve calcular e exibir a área do retângulo.base = float(input(\"Digite o tamanho da base do retangulo (cm):\"))"
      ],
      "metadata": {
        "id": "varqh9hZuv_K"
      }
    },
    {
      "cell_type": "code",
      "source": [],
      "metadata": {
        "id": "kxKBFY0juyZh"
      },
      "execution_count": null,
      "outputs": []
    },
    {
      "cell_type": "markdown",
      "source": [
        "5 - Crie uma função para que o usuário digite as idades de duas pessoas. O programa deve exibir se as idades são iguais ou diferentes."
      ],
      "metadata": {
        "id": "E4iB4AT9uz0a"
      }
    },
    {
      "cell_type": "code",
      "source": [],
      "metadata": {
        "id": "9o11Euf7u_2s"
      },
      "execution_count": null,
      "outputs": []
    },
    {
      "cell_type": "markdown",
      "source": [
        "6 - Crie uma função para que o usuário digite seu peso (em kg) e sua altura (em metros). O programa deve calcular e exibir o Índice de Massa Corporal (IMC)."
      ],
      "metadata": {
        "id": "9RnCwfBZu0FZ"
      }
    },
    {
      "cell_type": "code",
      "source": [],
      "metadata": {
        "id": "jjR213p4vAPb"
      },
      "execution_count": null,
      "outputs": []
    },
    {
      "cell_type": "markdown",
      "source": [
        "7 - Crie uma função para que o usuário digite dois números. O programa deve exibir se o primeiro número é maior, menor ou igual ao segundo número."
      ],
      "metadata": {
        "id": "XF5x9wa7u0SR"
      }
    },
    {
      "cell_type": "code",
      "source": [],
      "metadata": {
        "id": "gNSusZkIvAsr"
      },
      "execution_count": null,
      "outputs": []
    },
    {
      "cell_type": "markdown",
      "source": [
        "8 - Crie uma função para que o usuário digite três números. O programa deve calcular e exibir a média aritmética desses números."
      ],
      "metadata": {
        "id": "Hfzii5WPu0jK"
      }
    },
    {
      "cell_type": "code",
      "source": [],
      "metadata": {
        "id": "HpFMAZCVvBE7"
      },
      "execution_count": null,
      "outputs": []
    },
    {
      "cell_type": "markdown",
      "source": [
        "9 - Crie uma função para que o usuário digite o raio e a altura de um cilindro. O programa deve calcular e exibir o volume do cilindro."
      ],
      "metadata": {
        "id": "HEKfuLHQu01T"
      }
    },
    {
      "cell_type": "code",
      "source": [],
      "metadata": {
        "id": "hiHobYv1vBW7"
      },
      "execution_count": null,
      "outputs": []
    },
    {
      "cell_type": "markdown",
      "source": [
        "10 - Crie uma função para que o usuário digite duas palavras. O programa deve exibir se as palavras são iguais ou diferentes."
      ],
      "metadata": {
        "id": "baMT6J14u1Sz"
      }
    },
    {
      "cell_type": "code",
      "source": [],
      "metadata": {
        "id": "vG3F0rBTvB4D"
      },
      "execution_count": null,
      "outputs": []
    },
    {
      "cell_type": "markdown",
      "source": [
        "# **Atividades 04/11**"
      ],
      "metadata": {
        "id": "0HZW6SHewkCR"
      }
    },
    {
      "cell_type": "markdown",
      "source": [
        "1 - Escreva uma função que receba uma lista de números como entrada e retorne a soma de todos os elementos da lista."
      ],
      "metadata": {
        "id": "cxc2moJewmnB"
      }
    },
    {
      "cell_type": "code",
      "source": [],
      "metadata": {
        "id": "XMTo8Ydrw6Go"
      },
      "execution_count": null,
      "outputs": []
    },
    {
      "cell_type": "markdown",
      "source": [
        "2 - Crie uma função que receba uma lista como entrada e retorne a lista invertida, ou seja, a ordem dos elementos deve ser invertida."
      ],
      "metadata": {
        "id": "VQjvyCWTwpQ6"
      }
    },
    {
      "cell_type": "code",
      "source": [],
      "metadata": {
        "id": "9sJMl7_zw6VA"
      },
      "execution_count": null,
      "outputs": []
    },
    {
      "cell_type": "markdown",
      "source": [
        "3 - Escreva uma função que receba uma lista de números como entrada e retorne a média dos elementos da lista."
      ],
      "metadata": {
        "id": "GFN_ZERAwppp"
      }
    },
    {
      "cell_type": "code",
      "source": [],
      "metadata": {
        "id": "1zEtjePJw65A"
      },
      "execution_count": null,
      "outputs": []
    },
    {
      "cell_type": "markdown",
      "source": [
        "4 - Crie uma função que receba uma lista de strings como entrada e retorne a lista contendo o tamanho de cada string."
      ],
      "metadata": {
        "id": "W6nlDN1bwp2Y"
      }
    },
    {
      "cell_type": "code",
      "source": [],
      "metadata": {
        "id": "Ml9AzvNAw8Xf"
      },
      "execution_count": null,
      "outputs": []
    },
    {
      "cell_type": "markdown",
      "source": [
        "5 - Escreva uma função que receba duas listas como entrada e retorne uma nova lista contendo apenas os elementos que são comuns a ambas as listas."
      ],
      "metadata": {
        "id": "gpRqodT8wqEB"
      }
    },
    {
      "cell_type": "code",
      "source": [],
      "metadata": {
        "id": "LETQ3XJjw8z4"
      },
      "execution_count": null,
      "outputs": []
    },
    {
      "cell_type": "markdown",
      "source": [
        "6 - Crie uma função que receba uma lista como entrada e retorne uma nova lista contendo apenas os elementos únicos (sem repetição) da lista original."
      ],
      "metadata": {
        "id": "28syOwXgwqTQ"
      }
    },
    {
      "cell_type": "code",
      "source": [],
      "metadata": {
        "id": "gZ7KQOM6w9J4"
      },
      "execution_count": null,
      "outputs": []
    },
    {
      "cell_type": "markdown",
      "source": [
        "7 - Escreva uma função que receba uma lista de números como entrada e retorne uma lista contendo apenas os números pares da lista original."
      ],
      "metadata": {
        "id": "i3i0cUxQwqiA"
      }
    },
    {
      "cell_type": "code",
      "source": [],
      "metadata": {
        "id": "4zLPD2jfw9dA"
      },
      "execution_count": null,
      "outputs": []
    },
    {
      "cell_type": "markdown",
      "source": [
        "8 - Crie uma função que receba uma lista de números como entrada e retorne o maior elemento da lista."
      ],
      "metadata": {
        "id": "4rOsjmtLwqxJ"
      }
    },
    {
      "cell_type": "code",
      "source": [],
      "metadata": {
        "id": "PXtZ71Wiw9v4"
      },
      "execution_count": null,
      "outputs": []
    },
    {
      "cell_type": "markdown",
      "source": [
        "9 - Escreva uma função que receba uma lista como entrada e retorne True se a lista estiver ordenada de forma crescente, e False caso contrário."
      ],
      "metadata": {
        "id": "PlPg7QeBwrCQ"
      }
    },
    {
      "cell_type": "code",
      "source": [],
      "metadata": {
        "id": "ayO5G6ETw-Io"
      },
      "execution_count": null,
      "outputs": []
    },
    {
      "cell_type": "markdown",
      "source": [
        "10 - Crie uma função que receba duas listas como entrada e retorne True se uma lista for subconjunto da outra, e False caso contrário."
      ],
      "metadata": {
        "id": "pwDAX5n1wrSh"
      }
    },
    {
      "cell_type": "code",
      "source": [],
      "metadata": {
        "id": "uXnSDIihw-dg"
      },
      "execution_count": null,
      "outputs": []
    },
    {
      "cell_type": "markdown",
      "source": [
        "# **Atividades 11/11**"
      ],
      "metadata": {
        "id": "ZIGf2WS44VPK"
      }
    },
    {
      "cell_type": "code",
      "source": [
        "#1. Crie uma função que receba uma lista de números e retorne uma lista contendo apenas os números ímpares.\n",
        "def numeros_impares(numeros):\n",
        "\n",
        "#2. Escreva uma função que receba uma lista e retorne uma nova lista com o dobro de cada elemento.\n",
        "\n",
        "\n",
        "#3. Faça uma função que receba uma lista e retorne uma lista sem duplicatas.\n",
        "\n",
        "\n",
        "#4. Crie uma função que receba uma lista e um valor divisor e retorne uma lista dos elementos que são divisíveis pelo divisor.\n",
        "\n",
        "\n",
        "#5. Escreva uma função que receba duas listas e retorne um conjunto com os elementos que aparecem em ambas.\n",
        "\n",
        "\n",
        "#6. Crie uma função que receba uma lista e retorne uma nova lista com os elementos em ordem inversa.\n",
        "\n",
        "\n",
        "#7. Escreva uma função que receba uma lista de números e retorne uma lista contendo o quadrado de cada número.\n",
        "\n",
        "\n",
        "#8. Crie uma função que receba uma lista e um valor, e retorne uma lista com os elementos maiores que esse valor.\n",
        "\n",
        "\n",
        "#9. Escreva uma função que receba duas listas e retorne uma lista dos elementos que estão em apenas uma das listas.\n",
        "\n",
        "\n",
        "#10. Faça uma função que receba uma lista e retorne um conjunto dos elementos únicos.\n",
        "\n",
        "\n",
        "#11. Crie uma função que receba duas listas e retorne uma lista dos elementos únicos que estão em ambas.\n",
        "\n",
        "\n",
        "#12. Escreva uma função que receba uma lista e retorne uma lista contendo os elementos que aparecem mais de uma vez.\n",
        "\n",
        "\n",
        "#13. Faça uma função que receba uma lista de números e retorne uma lista dos números pares.\n",
        "\n",
        "\n",
        "#14. Escreva uma função que receba uma lista de números e um valor, e retorne uma lista com os índices dos elementos maiores que o valor.\n",
        "\n",
        "\n",
        "#15. Crie uma função que receba uma lista de strings e retorne uma lista com o tamanho de cada string.\n",
        "\n",
        "\n",
        "#16. Escreva uma função que receba uma lista de números e retorne uma lista contendo cada número elevado ao cubo.\n",
        "\n",
        "\n",
        "#17. Crie uma função que receba uma lista e retorne uma lista de todos os elementos únicos.\n",
        "\n",
        "\n",
        "#18. Escreva uma função que receba uma lista de strings e retorne uma lista contendo as strings que começam com uma letra maiúscula.\n",
        "\n",
        "\n",
        "#19. Faça uma função que receba uma lista de números e retorne uma lista contendo apenas os múltiplos de 3.\n",
        "\n",
        "\n",
        "#20. Escreva uma função que receba duas listas e retorne uma lista com a interseção ordenada de forma crescente entre elas.\n",
        "\n"
      ],
      "metadata": {
        "colab": {
          "base_uri": "https://localhost:8080/",
          "height": 106
        },
        "id": "Uu-eAQaE4osy",
        "outputId": "6cc5550f-f5cf-431a-c029-15c7445fc102"
      },
      "execution_count": null,
      "outputs": [
        {
          "output_type": "error",
          "ename": "SyntaxError",
          "evalue": "incomplete input (<ipython-input-3-594a5b5e1bbf>, line 59)",
          "traceback": [
            "\u001b[0;36m  File \u001b[0;32m\"<ipython-input-3-594a5b5e1bbf>\"\u001b[0;36m, line \u001b[0;32m59\u001b[0m\n\u001b[0;31m    \u001b[0m\n\u001b[0m    ^\u001b[0m\n\u001b[0;31mSyntaxError\u001b[0m\u001b[0;31m:\u001b[0m incomplete input\n"
          ]
        }
      ]
    },
    {
      "cell_type": "markdown",
      "source": [
        "*   EXECUÇÕES\n",
        "\n",
        "\n",
        "\n",
        "\n"
      ],
      "metadata": {
        "id": "8Mrv_fo44aua"
      }
    },
    {
      "cell_type": "markdown",
      "source": [
        "1. Crie uma função que receba uma lista de números e retorne uma lista contendo apenas os números ímpares."
      ],
      "metadata": {
        "id": "BmnL3df15E2W"
      }
    },
    {
      "cell_type": "code",
      "source": [
        "def numeros_impares(numeros):\n",
        "\n",
        "  impares = []\n",
        "  for numero in numeros:\n",
        "    if numero % 2 != 0:\n",
        "      impares.append(numero)\n",
        "  return impares"
      ],
      "metadata": {
        "id": "IRqkz7F55x36"
      },
      "execution_count": null,
      "outputs": []
    },
    {
      "cell_type": "markdown",
      "source": [
        "2. Escreva uma função que receba uma lista e retorne uma nova lista com o dobro de cada elemento."
      ],
      "metadata": {
        "id": "1eWROcoH5IMO"
      }
    },
    {
      "cell_type": "code",
      "source": [
        "def dobro_elementos(lista):\n",
        "\n",
        "  nova_lista = [x * 2 for x in lista]\n",
        "  return nova_lista\n",
        "\n",
        "  print(dobro_elementos([1, 2, 3, 4, 5]))"
      ],
      "metadata": {
        "id": "_AOF5iSa5yRq"
      },
      "execution_count": null,
      "outputs": []
    },
    {
      "cell_type": "markdown",
      "source": [
        "3. Faça uma função que receba uma lista e retorne uma lista sem duplicatas."
      ],
      "metadata": {
        "id": "PXiYd5mj5Iov"
      }
    },
    {
      "cell_type": "code",
      "source": [],
      "metadata": {
        "id": "Ip_JgCP-5yjK"
      },
      "execution_count": null,
      "outputs": []
    },
    {
      "cell_type": "markdown",
      "source": [
        "4. Crie uma função que receba uma lista e um valor divisor e retorne uma lista dos elementos que são divisíveis pelo divisor."
      ],
      "metadata": {
        "id": "h2ZmUqf65I2G"
      }
    },
    {
      "cell_type": "code",
      "source": [],
      "metadata": {
        "id": "fwpGYg375zBT"
      },
      "execution_count": null,
      "outputs": []
    },
    {
      "cell_type": "markdown",
      "source": [
        "5. Escreva uma função que receba duas listas e retorne um conjunto com os elementos que aparecem em ambas."
      ],
      "metadata": {
        "id": "Q4HsdmCw5JDf"
      }
    },
    {
      "cell_type": "code",
      "source": [],
      "metadata": {
        "id": "jgF4fLt55zZi"
      },
      "execution_count": null,
      "outputs": []
    },
    {
      "cell_type": "markdown",
      "source": [
        "6. Crie uma função que receba uma lista e retorne uma nova lista com os elementos em ordem inversa."
      ],
      "metadata": {
        "id": "UxI79Rc45JPO"
      }
    },
    {
      "cell_type": "code",
      "source": [],
      "metadata": {
        "id": "YK0Cx0tt5z8z"
      },
      "execution_count": null,
      "outputs": []
    },
    {
      "cell_type": "markdown",
      "source": [
        "7. Escreva uma função que receba uma lista de números e retorne uma lista contendo o quadrado de cada número."
      ],
      "metadata": {
        "id": "0fRZApVQ5JhH"
      }
    },
    {
      "cell_type": "code",
      "source": [],
      "metadata": {
        "id": "IPuYj8XQ50ci"
      },
      "execution_count": null,
      "outputs": []
    },
    {
      "cell_type": "markdown",
      "source": [
        "8. Crie uma função que receba uma lista e um valor, e retorne uma lista com os elementos maiores que esse valor."
      ],
      "metadata": {
        "id": "5smM4SgO5Jz-"
      }
    },
    {
      "cell_type": "code",
      "source": [],
      "metadata": {
        "id": "wgPBDTxF50sS"
      },
      "execution_count": null,
      "outputs": []
    },
    {
      "cell_type": "markdown",
      "source": [
        "9. Escreva uma função que receba duas listas e retorne uma lista dos elementos que estão em apenas uma das listas."
      ],
      "metadata": {
        "id": "ghrfyVJz5J-_"
      }
    },
    {
      "cell_type": "code",
      "source": [],
      "metadata": {
        "id": "07xl5emR51FK"
      },
      "execution_count": null,
      "outputs": []
    },
    {
      "cell_type": "markdown",
      "source": [
        "10. Faça uma função que receba uma lista e retorne um conjunto dos elementos únicos."
      ],
      "metadata": {
        "id": "XiGvua815KPv"
      }
    },
    {
      "cell_type": "code",
      "source": [],
      "metadata": {
        "id": "J2ctMPnl51bK"
      },
      "execution_count": null,
      "outputs": []
    },
    {
      "cell_type": "markdown",
      "source": [
        "11. Crie uma função que receba duas listas e retorne uma lista dos elementos únicos que estão em ambas."
      ],
      "metadata": {
        "id": "OgXG3iYL5Kgm"
      }
    },
    {
      "cell_type": "code",
      "source": [],
      "metadata": {
        "id": "nbV8tr7H51rC"
      },
      "execution_count": null,
      "outputs": []
    },
    {
      "cell_type": "markdown",
      "source": [
        "12. Escreva uma função que receba uma lista e retorne uma lista contendo os elementos que aparecem mais de uma vez."
      ],
      "metadata": {
        "id": "fT6KDqk_5Kxe"
      }
    },
    {
      "cell_type": "code",
      "source": [],
      "metadata": {
        "id": "QrxPj__l52BK"
      },
      "execution_count": null,
      "outputs": []
    },
    {
      "cell_type": "markdown",
      "source": [
        "13. Faça uma função que receba uma lista de números e retorne uma lista dos números pares."
      ],
      "metadata": {
        "id": "xRtv_NId5LEO"
      }
    },
    {
      "cell_type": "code",
      "source": [],
      "metadata": {
        "id": "uYe7-VuL52Yi"
      },
      "execution_count": null,
      "outputs": []
    },
    {
      "cell_type": "markdown",
      "source": [
        "14. Escreva uma função que receba uma lista de números e um valor, e retorne uma lista com os índices dos elementos maiores que o valor."
      ],
      "metadata": {
        "id": "S29K-XvW5LUG"
      }
    },
    {
      "cell_type": "code",
      "source": [],
      "metadata": {
        "id": "o8fo8dn_52sS"
      },
      "execution_count": null,
      "outputs": []
    },
    {
      "cell_type": "markdown",
      "source": [
        "15. Crie uma função que receba uma lista de strings e retorne uma lista com o tamanho de cada string."
      ],
      "metadata": {
        "id": "x0O4uB4l5Lj2"
      }
    },
    {
      "cell_type": "code",
      "source": [],
      "metadata": {
        "id": "ub3Hr1XV53AC"
      },
      "execution_count": null,
      "outputs": []
    },
    {
      "cell_type": "markdown",
      "source": [
        "16. Escreva uma função que receba uma lista de números e retorne uma lista contendo cada número elevado ao cubo."
      ],
      "metadata": {
        "id": "PVXT4h5J5L33"
      }
    },
    {
      "cell_type": "code",
      "source": [],
      "metadata": {
        "id": "xpwHR5uL53Z6"
      },
      "execution_count": null,
      "outputs": []
    },
    {
      "cell_type": "markdown",
      "source": [
        "17. Crie uma função que receba uma lista e retorne uma lista de todos os elementos únicos."
      ],
      "metadata": {
        "id": "D7boZuhe5MFe"
      }
    },
    {
      "cell_type": "code",
      "source": [],
      "metadata": {
        "id": "hKH0Gu5w53sy"
      },
      "execution_count": null,
      "outputs": []
    },
    {
      "cell_type": "markdown",
      "source": [
        "18. Escreva uma função que receba uma lista de strings e retorne uma lista contendo as strings que começam com uma letra maiúscula."
      ],
      "metadata": {
        "id": "XL5dkKyB5MV-"
      }
    },
    {
      "cell_type": "code",
      "source": [],
      "metadata": {
        "id": "64YMNpy554DS"
      },
      "execution_count": null,
      "outputs": []
    },
    {
      "cell_type": "markdown",
      "source": [
        "19. Faça uma função que receba uma lista de números e retorne uma lista contendo apenas os múltiplos de 3."
      ],
      "metadata": {
        "id": "-oQBfVfD5MqZ"
      }
    },
    {
      "cell_type": "code",
      "source": [],
      "metadata": {
        "id": "BdPzne6M54bq"
      },
      "execution_count": null,
      "outputs": []
    },
    {
      "cell_type": "markdown",
      "source": [
        "20. Escreva uma função que receba duas listas e retorne uma lista com a interseção ordenada de forma crescente entre elas."
      ],
      "metadata": {
        "id": "FK3y1l0w5M6B"
      }
    },
    {
      "cell_type": "code",
      "source": [],
      "metadata": {
        "id": "tFqCBvPP5xAC"
      },
      "execution_count": null,
      "outputs": []
    }
  ]
}