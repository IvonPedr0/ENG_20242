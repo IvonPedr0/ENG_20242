{
  "nbformat": 4,
  "nbformat_minor": 0,
  "metadata": {
    "colab": {
      "provenance": [],
      "include_colab_link": true
    },
    "kernelspec": {
      "name": "python3",
      "display_name": "Python 3"
    },
    "language_info": {
      "name": "python"
    }
  },
  "cells": [
    {
      "cell_type": "markdown",
      "metadata": {
        "id": "view-in-github",
        "colab_type": "text"
      },
      "source": [
        "<a href=\"https://colab.research.google.com/github/IvonPedr0/ENG_20242/blob/main/atv3_fun%C3%A7%C3%B5es_lambda_30112024.ipynb\" target=\"_parent\"><img src=\"https://colab.research.google.com/assets/colab-badge.svg\" alt=\"Open In Colab\"/></a>"
      ]
    },
    {
      "cell_type": "markdown",
      "source": [
        "# **Atividade 03 - Portfólio Avaliativo - ATÉ 30/11**"
      ],
      "metadata": {
        "id": "364SbF9BPWCU"
      }
    },
    {
      "cell_type": "markdown",
      "source": [
        "**ALUNO:** Ivon Pedro da Silva Neto - EP10N"
      ],
      "metadata": {
        "id": "P0FpWwXFPaSZ"
      }
    },
    {
      "cell_type": "markdown",
      "source": [
        "*   Entrando com as listas"
      ],
      "metadata": {
        "id": "khgw1VvtPg0Y"
      }
    },
    {
      "cell_type": "code",
      "source": [
        "# Entradas de listas\n",
        "\n",
        "# Lista Geral int\n",
        "geral_int = lambda : [-5, -4, -3, -2, -1, 1, 2, 3, 4, 5]\n",
        "\n",
        "# Lista Geral str\n",
        "geral_str = lambda : [\"sofia\", \"julio\", \"mateus\", \"afonso\", \"roberta\", \"paula\", \"tiago\", \"beatriz\", \"igor\"]\n",
        "\n",
        "# Lista Geral idades\n",
        "geral_idade = lambda : [21, 32, 12, 88, 3, 17, 45, 91, 7]"
      ],
      "metadata": {
        "id": "7n4jTPaTPnTx"
      },
      "execution_count": 7,
      "outputs": []
    },
    {
      "cell_type": "markdown",
      "source": [
        "*   Entrando com as funções por exercício"
      ],
      "metadata": {
        "id": "IJ71mY_8QDwB"
      }
    },
    {
      "cell_type": "code",
      "execution_count": 68,
      "metadata": {
        "id": "AYuPFxNhBapY"
      },
      "outputs": [],
      "source": [
        "# Entrada de funções\n",
        "\n",
        "# 1 Dada uma lista de números inteiros, use uma função lambda para retornar uma lista com o quadrado de cada número.\n",
        "lista1 = geral_int()\n",
        "quadrado = list(map(lambda x1 : x1 ** 2, lista1))\n",
        "\n",
        "# 2 Dada uma lista de temperaturas em Celsius, use uma função lambda para convertê-las em Fahrenheit.\n",
        "fahrenheit = lambda celsius: (celsius * 9/5) + 32\n",
        "\n",
        "# 3 Dada uma lista de palavras, use uma função lambda para retornar uma lista com o comprimento de cada palavra.\n",
        "lista3 = geral_str()\n",
        "tamanho_str = list(map(lambda x3 : len(x3), lista3))\n",
        "\n",
        "# 4 Use uma função lambda para dobrar os valores de uma lista de inteiros.\n",
        "lista4 = lista1\n",
        "dobra = list(map(lambda x4 : x4 * 2, lista4))\n",
        "\n",
        "# 5 Dada uma lista de nomes, use uma função lambda para adicionar o prefixo \"Sr./Sra.\" antes de cada nome.\n",
        "lista5 = geral_str()\n",
        "prefixo = list(map(lambda x5 : 'Sr/Sra ' + x5, lista5))\n",
        "\n",
        "# 6 Dada uma lista de números, use uma função lambda para retornar apenas os números pares.\n",
        "lista6 = geral_int()\n",
        "pares = list(filter(lambda x6 : x6 % 2 == 0, lista6))\n",
        "\n",
        "# 7 Dada uma lista de palavras, use uma função lambda para retornar apenas as palavras com menos de 5 caracteres.\n",
        "lista7 = geral_str()\n",
        "menor_5 = list(filter(lambda x7 : len(x7) < 5, lista7))\n",
        "\n",
        "# 8 Dada uma lista de idades, use uma função lambda para retornar apenas as idades maiores que 18.\n",
        "lista8 = geral_idade()\n",
        "maior_18 = list(filter(lambda x8 : x8 > 18, lista8))\n",
        "\n",
        "# 9 Dada uma lista de strings, use uma função lambda para retornar as strings que começam com a letra \"a\".\n",
        "lista9 = geral_str()\n",
        "inicio_a = list(filter(lambda x9 : x9[0] == 'a', lista9))\n",
        "\n",
        "# 10 Dada uma lista de números inteiros, use uma função lambda para retornar apenas os números positivos.\n",
        "positivos = list(filter(lambda x10 : x10 > 0, lista1))\n",
        "\n",
        "# 11 Use uma função lambda para calcular a soma de uma lista de números.\n",
        "from functools import reduce\n",
        "lista11 = geral_int()\n",
        "soma = reduce(lambda x11, y11 : x11 + y11, lista11)\n",
        "\n",
        "# 12 Use uma função lambda para multiplicar todos os elementos de uma lista.\n",
        "from functools import reduce\n",
        "lista12 = geral_int()\n",
        "multiplica = reduce(lambda x12, y12 : x12 * y12, lista12)\n",
        "\n",
        "# 13 Use uma função lambda para encontrar o maior número em uma lista.\n",
        "from functools import reduce\n",
        "maximo = reduce(lambda x13, y13 : x13 if x13 > y13 else y13, lista1)\n",
        "\n",
        "# 14 Use uma função lambda para concatenar uma lista de palavras em uma única string separada por espaços.\n",
        "from functools import reduce\n",
        "lista14 = geral_str()\n",
        "unica_palavra = reduce(lambda x14, y14 : x14 + ' ' + y14, lista14)\n",
        "\n",
        "# 15 Use uma função lambda para somar os dígitos de uma lista de inteiros, onde cada número é tratado individualmente.\n",
        "soma_digito = list(map(lambda x15: sum(int(d) for d in str(abs(x15))), geral_int()))\n",
        "\n",
        "# 16 Use uma função lambda para dobrar os números de uma lista e retornar apenas os números que são maiores que 20.\n",
        "lista16 = geral_int()\n",
        "dobro_maior_20 = list(filter(lambda x16: x16 > 20, map(lambda x16: x16 * 2, lista16)))\n",
        "\n",
        "# 17 Dada uma lista de palavras, use uma função lambda para encontrar todas as palavras que contêm a letra \"e\" e conte quantas são.\n",
        "lista17 = geral_str()\n",
        "contem_e = list(filter(lambda x17 : 'e' in x17, lista17))\n",
        "\n",
        "# 18 Converta uma lista de temperaturas de Fahrenheit para Celsius usando uma função lambda e, em seguida, retorne apenas as temperaturas abaixo de 20°C.\n",
        "lista18 = [32, 68, 104, 212]\n",
        "converte_celsius = list(filter(lambda x18 : (x18 - 32) * 5/9 > 20, lista18))\n",
        "celsius_maior_20 = list(filter(lambda x18: x18 < 20, map(lambda x18: (x18 - 32) * 5/9, lista18)))\n",
        "\n",
        "# 19 Use uma função lambda para selecionar apenas os números pares de uma lista e, em seguida, somar esses números.\n",
        "from functools import reduce\n",
        "lista19 = geral_int()\n",
        "soma_par = reduce(lambda x19, y19 : x19 + y19, filter(lambda x19 : x19 % 2 == 0, lista19))\n",
        "\n",
        "# 20 Use uma função lambda para substituir números negativos de uma lista por 0 e manter os positivos.\n",
        "lista20 = geral_int()\n",
        "troca_negativo = list(map(lambda x20 : 0 if x20 < 0 else x20, lista20))\n",
        "\n",
        "# 21 Use uma função lambda para retornar a lista de cubos de cada elemento em uma lista de números.\n",
        "lista21 = lista1\n",
        "cubos = list(map(lambda x21: x21**3, lista21))\n",
        "\n",
        "# 22 Use uma função lambda para verificar se um número dado é primo (retornando True ou False).\n",
        "primo = lambda n22: n22 > 1 and all(n22 % i != 0 for i in range(2, int(n22**0.5) + 1))\n",
        "\n",
        "# 23 Use uma função lambda para dividir cada elemento de uma lista por 5 e retornar a nova lista.\n",
        "lista23 = geral_int()\n",
        "divide_5 = list(map(lambda x23: x23 / 5, lista23))\n",
        "\n",
        "# 24 Use uma função lambda para remover todas as vogais de uma string dada.\n",
        "remove_vogais = lambda s24: ''.join(filter(lambda c: c.lower() not in 'aeiou', s24))\n",
        "\n",
        "# 25 Use uma função lambda para converter todas as palavras em uma lista para letras maiúsculas.\n",
        "lista25 = geral_str()\n",
        "maiusculas = list(map(lambda x25: x25.upper(), lista25))\n",
        "\n",
        "# 26 Use uma função lambda para retornar apenas os números negativos de uma lista de inteiros.\n",
        "lista26 = geral_int()\n",
        "negativos = list(filter(lambda x26: x26 < 0, lista26))\n",
        "\n",
        "# 27 Use uma função lambda para converter todos os números de uma lista para seus valores absolutos.\n",
        "lista27 = geral_int()\n",
        "absolutos = list(map(lambda x27: abs(x27), lista27))\n",
        "\n",
        "# 28 Use uma função lambda para retornar uma lista com o resto da divisão de cada elemento por 3.\n",
        "lista28 = geral_int()\n",
        "resto_3 = list(map(lambda x28: x28 % 3, lista28))\n",
        "\n",
        "# 29 Dada uma lista de números, use uma função lambda para multiplicar cada elemento pelo seu índice.\n",
        "lista29 = geral_int()\n",
        "multiplica_indice = list(map(lambda x29: x29[1] * x29[0], enumerate(lista29)))\n",
        "\n",
        "# 30 Use uma função lambda para verificar se uma palavra dada é um palíndromo (retornando True ou False).\n",
        "palindromo = lambda s30: s30 == s30[::-1]\n"
      ]
    },
    {
      "cell_type": "markdown",
      "source": [
        "*   Executando as funções por exercício"
      ],
      "metadata": {
        "id": "AamlLIWscJV2"
      }
    },
    {
      "cell_type": "markdown",
      "source": [
        "1. Dada uma lista de números inteiros, use uma função lambda para retornar uma lista com o quadrado de cada número."
      ],
      "metadata": {
        "id": "g6aoIQI8Z-o3"
      }
    },
    {
      "cell_type": "code",
      "source": [
        "lista1 = geral_int()\n",
        "print(quadrado)"
      ],
      "metadata": {
        "colab": {
          "base_uri": "https://localhost:8080/"
        },
        "id": "CShnMmb5CSo3",
        "outputId": "a57a62d3-1ff7-4fc6-8156-f178e09e749a"
      },
      "execution_count": 33,
      "outputs": [
        {
          "output_type": "stream",
          "name": "stdout",
          "text": [
            "[25, 16, 9, 4, 1, 1, 4, 9, 16, 25]\n"
          ]
        }
      ]
    },
    {
      "cell_type": "markdown",
      "source": [
        "2. Dada uma lista de temperaturas em Celsius, use uma função lambda para convertê-las em Fahrenheit."
      ],
      "metadata": {
        "id": "WMh4VOGhaD9u"
      }
    },
    {
      "cell_type": "code",
      "source": [
        "celsius = input(\"Informe a Temperatura em Celsius que deseja visualizar em Fahrenheit: \")\n",
        "fahrenheit(float(celsius))"
      ],
      "metadata": {
        "colab": {
          "base_uri": "https://localhost:8080/"
        },
        "id": "kgXkGWSCFNT3",
        "outputId": "2b83ab4e-67c0-4661-9731-957960a2f251"
      },
      "execution_count": 62,
      "outputs": [
        {
          "name": "stdout",
          "output_type": "stream",
          "text": [
            "Informe a Temperatura em Celsius que deseja visualizar em Fahrenheit: 31\n"
          ]
        },
        {
          "output_type": "execute_result",
          "data": {
            "text/plain": [
              "87.8"
            ]
          },
          "metadata": {},
          "execution_count": 62
        }
      ]
    },
    {
      "cell_type": "markdown",
      "source": [
        "3. Dada uma lista de palavras, use uma função lambda para retornar uma lista com o comprimento de cada palavra."
      ],
      "metadata": {
        "id": "-pA89MRXaJKG"
      }
    },
    {
      "cell_type": "code",
      "source": [
        "lista3 = geral_str()\n",
        "print(tamanho_str)"
      ],
      "metadata": {
        "colab": {
          "base_uri": "https://localhost:8080/"
        },
        "id": "L8XLaKESFNb3",
        "outputId": "c0c7daa2-693c-4e4c-80b8-bd154c93c172"
      },
      "execution_count": 34,
      "outputs": [
        {
          "output_type": "stream",
          "name": "stdout",
          "text": [
            "[5, 5, 6, 6, 7, 5, 5, 7, 4]\n"
          ]
        }
      ]
    },
    {
      "cell_type": "markdown",
      "source": [
        "4. Use uma função lambda para dobrar os valores de uma lista de inteiros."
      ],
      "metadata": {
        "id": "Cd1y8gB9aN3d"
      }
    },
    {
      "cell_type": "code",
      "source": [
        "lista4 = geral_int()\n",
        "print(dobra)"
      ],
      "metadata": {
        "colab": {
          "base_uri": "https://localhost:8080/"
        },
        "id": "03_-eMh4FNjP",
        "outputId": "51d6e2f7-ccb0-4e6d-c87e-ccd0e59f32cc"
      },
      "execution_count": 35,
      "outputs": [
        {
          "output_type": "stream",
          "name": "stdout",
          "text": [
            "[-10, -8, -6, -4, -2, 2, 4, 6, 8, 10]\n"
          ]
        }
      ]
    },
    {
      "cell_type": "markdown",
      "source": [
        "5. Dada uma lista de nomes, use uma função lambda para adicionar o prefixo \"Sr./Sra.\" antes de cada nome."
      ],
      "metadata": {
        "id": "mwR11hkBaSAt"
      }
    },
    {
      "cell_type": "code",
      "source": [
        "lista5 = geral_str()\n",
        "print(prefixo)"
      ],
      "metadata": {
        "colab": {
          "base_uri": "https://localhost:8080/"
        },
        "id": "a4ngz9KDFNqn",
        "outputId": "7e88bef7-cc93-44a4-c566-199513b0a807"
      },
      "execution_count": 36,
      "outputs": [
        {
          "output_type": "stream",
          "name": "stdout",
          "text": [
            "['Sr/Sra sofia', 'Sr/Sra julio', 'Sr/Sra mateus', 'Sr/Sra afonso', 'Sr/Sra roberta', 'Sr/Sra paula', 'Sr/Sra tiago', 'Sr/Sra beatriz', 'Sr/Sra igor']\n"
          ]
        }
      ]
    },
    {
      "cell_type": "markdown",
      "source": [
        "6. Dada uma lista de números, use uma função lambda para retornar apenas os números pares."
      ],
      "metadata": {
        "id": "XiX4r1KZaXK2"
      }
    },
    {
      "cell_type": "code",
      "source": [
        "lista6 = geral_int()\n",
        "print(pares)"
      ],
      "metadata": {
        "colab": {
          "base_uri": "https://localhost:8080/"
        },
        "id": "vlQQYALNFNx3",
        "outputId": "77037c00-c747-4adf-9f27-4b490b02bc2e"
      },
      "execution_count": 37,
      "outputs": [
        {
          "output_type": "stream",
          "name": "stdout",
          "text": [
            "[-4, -2, 2, 4]\n"
          ]
        }
      ]
    },
    {
      "cell_type": "markdown",
      "source": [
        "7. Dada uma lista de palavras, use uma função lambda para retornar apenas as palavras com menos de 5 caracteres."
      ],
      "metadata": {
        "id": "0jD0dXkYaa9d"
      }
    },
    {
      "cell_type": "code",
      "source": [
        "lista7 = geral_str()\n",
        "print(menor_5)"
      ],
      "metadata": {
        "colab": {
          "base_uri": "https://localhost:8080/"
        },
        "id": "TFsQ961_FN4n",
        "outputId": "c9301b68-10cf-4c5c-a45f-74972fdda945"
      },
      "execution_count": 38,
      "outputs": [
        {
          "output_type": "stream",
          "name": "stdout",
          "text": [
            "['igor']\n"
          ]
        }
      ]
    },
    {
      "cell_type": "markdown",
      "source": [
        "8. Dada uma lista de idades, use uma função lambda para retornar apenas as idades maiores que 18."
      ],
      "metadata": {
        "id": "ux9SiIMCafKV"
      }
    },
    {
      "cell_type": "code",
      "source": [
        "lista8 = geral_idade()\n",
        "print(maior_18)"
      ],
      "metadata": {
        "colab": {
          "base_uri": "https://localhost:8080/"
        },
        "id": "GjAonp_MFOAP",
        "outputId": "e6000174-3b68-4d95-deb4-f2cf549bf871"
      },
      "execution_count": 39,
      "outputs": [
        {
          "output_type": "stream",
          "name": "stdout",
          "text": [
            "[21, 32, 88, 45, 91]\n"
          ]
        }
      ]
    },
    {
      "cell_type": "markdown",
      "source": [
        "9. Dada uma lista de strings, use uma função lambda para retornar as strings que começam com a letra \"a\"."
      ],
      "metadata": {
        "id": "5ZLCLTtDai5O"
      }
    },
    {
      "cell_type": "code",
      "source": [
        "lista9 = geral_str()\n",
        "print(inicio_a)"
      ],
      "metadata": {
        "colab": {
          "base_uri": "https://localhost:8080/"
        },
        "id": "j8rnvIRwFOHP",
        "outputId": "fe0e52e8-7ecd-4e68-8efd-7c45c7b80ba1"
      },
      "execution_count": 40,
      "outputs": [
        {
          "output_type": "stream",
          "name": "stdout",
          "text": [
            "['afonso']\n"
          ]
        }
      ]
    },
    {
      "cell_type": "markdown",
      "source": [
        "10. Dada uma lista de números inteiros, use uma função lambda para retornar apenas os números positivos."
      ],
      "metadata": {
        "id": "Ry9AGJ6PanLG"
      }
    },
    {
      "cell_type": "code",
      "source": [
        "lista10 = geral_int()\n",
        "print(positivos)"
      ],
      "metadata": {
        "colab": {
          "base_uri": "https://localhost:8080/"
        },
        "id": "-rOlYfZhFON_",
        "outputId": "852e33bf-4fb8-4c68-cd6f-94e91ae39849"
      },
      "execution_count": 41,
      "outputs": [
        {
          "output_type": "stream",
          "name": "stdout",
          "text": [
            "[1, 2, 3, 4, 5]\n"
          ]
        }
      ]
    },
    {
      "cell_type": "markdown",
      "source": [
        "11. Use uma função lambda para calcular a soma de uma lista de números."
      ],
      "metadata": {
        "id": "L7NCSu4iaqDF"
      }
    },
    {
      "cell_type": "code",
      "source": [
        "lista11 = geral_int()\n",
        "print(soma)"
      ],
      "metadata": {
        "colab": {
          "base_uri": "https://localhost:8080/"
        },
        "id": "YNi5eIv3FOUP",
        "outputId": "fc5b1237-78b7-446d-9994-4dbc14a125cd"
      },
      "execution_count": 42,
      "outputs": [
        {
          "output_type": "stream",
          "name": "stdout",
          "text": [
            "0\n"
          ]
        }
      ]
    },
    {
      "cell_type": "markdown",
      "source": [
        "12. Use uma função lambda para multiplicar todos os elementos de uma lista."
      ],
      "metadata": {
        "id": "MvRvno37aueG"
      }
    },
    {
      "cell_type": "code",
      "source": [
        "lista12 = geral_int()\n",
        "print(multiplica)"
      ],
      "metadata": {
        "colab": {
          "base_uri": "https://localhost:8080/"
        },
        "id": "aSpUKGmBFOa_",
        "outputId": "79eae242-7bae-4233-ee86-55724a39a67d"
      },
      "execution_count": 43,
      "outputs": [
        {
          "output_type": "stream",
          "name": "stdout",
          "text": [
            "-14400\n"
          ]
        }
      ]
    },
    {
      "cell_type": "markdown",
      "source": [
        "13. Use uma função lambda para encontrar o maior número em uma lista."
      ],
      "metadata": {
        "id": "R-qBcBoya01d"
      }
    },
    {
      "cell_type": "code",
      "source": [
        "lista13 = geral_int()\n",
        "print(maximo)"
      ],
      "metadata": {
        "colab": {
          "base_uri": "https://localhost:8080/"
        },
        "id": "O0UOReI4FOhP",
        "outputId": "3295c906-567c-4acc-84cb-e70cb205d5e0"
      },
      "execution_count": 44,
      "outputs": [
        {
          "output_type": "stream",
          "name": "stdout",
          "text": [
            "5\n"
          ]
        }
      ]
    },
    {
      "cell_type": "markdown",
      "source": [
        "14. Use uma função lambda para concatenar uma lista de palavras em uma única string separada por espaços."
      ],
      "metadata": {
        "id": "eZLKEvPba-9N"
      }
    },
    {
      "cell_type": "code",
      "source": [
        "lista14 = geral_str()\n",
        "print(unica_palavra)"
      ],
      "metadata": {
        "colab": {
          "base_uri": "https://localhost:8080/"
        },
        "id": "tTgxNQ_LFOnw",
        "outputId": "b6be08f5-0c81-48e0-8771-81eb33081c7d"
      },
      "execution_count": 45,
      "outputs": [
        {
          "output_type": "stream",
          "name": "stdout",
          "text": [
            "sofia julio mateus afonso roberta paula tiago beatriz igor\n"
          ]
        }
      ]
    },
    {
      "cell_type": "markdown",
      "source": [
        "15. Use uma função lambda para somar os dígitos de uma lista de inteiros, onde cada número é tratado individualmente."
      ],
      "metadata": {
        "id": "XwZZsBrzbD01"
      }
    },
    {
      "cell_type": "code",
      "source": [
        "lista15 = geral_idade()\n",
        "print(soma_digito)"
      ],
      "metadata": {
        "colab": {
          "base_uri": "https://localhost:8080/"
        },
        "id": "8kU-y53jFOt_",
        "outputId": "7858eae1-da45-4e80-836b-4cc4c5f8f538"
      },
      "execution_count": 46,
      "outputs": [
        {
          "output_type": "stream",
          "name": "stdout",
          "text": [
            "[5, 4, 3, 2, 1, 1, 2, 3, 4, 5]\n"
          ]
        }
      ]
    },
    {
      "cell_type": "markdown",
      "source": [
        "16. Use uma função lambda para dobrar os números de uma lista e retornar apenas os números que são maiores que 20."
      ],
      "metadata": {
        "id": "3QCV3LEvbHG9"
      }
    },
    {
      "cell_type": "code",
      "source": [
        "lista16 = geral_idade()\n",
        "print(dobro_maior_20)"
      ],
      "metadata": {
        "colab": {
          "base_uri": "https://localhost:8080/"
        },
        "id": "y2rOTo1wFOz3",
        "outputId": "40f690aa-04f4-4cc0-b5d1-657719e8ce4a"
      },
      "execution_count": 47,
      "outputs": [
        {
          "output_type": "stream",
          "name": "stdout",
          "text": [
            "[]\n"
          ]
        }
      ]
    },
    {
      "cell_type": "markdown",
      "source": [
        "17. Dada uma lista de palavras, use uma função lambda para encontrar todas as palavras que contêm a letra \"e\" e conte quantas são."
      ],
      "metadata": {
        "id": "AYYe9JS3bKae"
      }
    },
    {
      "cell_type": "code",
      "source": [
        "lista17 = geral_str()\n",
        "print(f\"A letra 'e' aparece em {len(contem_e)} palavras da string: {contem_e}\")"
      ],
      "metadata": {
        "id": "w0laMfXJFO6v",
        "colab": {
          "base_uri": "https://localhost:8080/"
        },
        "outputId": "44c0f662-44ea-425a-fc8b-3f34afe3ccaa"
      },
      "execution_count": 76,
      "outputs": [
        {
          "output_type": "stream",
          "name": "stdout",
          "text": [
            "A letra 'e' aparece em 3 palavras da string: ['mateus', 'roberta', 'beatriz']\n"
          ]
        }
      ]
    },
    {
      "cell_type": "markdown",
      "source": [
        "18. Converta uma lista de temperaturas de Fahrenheit para Celsius usando uma função lambda e, em seguida, retorne apenas as temperaturas abaixo de 20°C."
      ],
      "metadata": {
        "id": "_Q-T_MVVbNZs"
      }
    },
    {
      "cell_type": "code",
      "source": [
        "lista18 = [220, 0, 130, 42, 12, 90, 60, 154, 205]\n",
        "print(celsius_maior_20)"
      ],
      "metadata": {
        "id": "I_LsAl_9FPBY",
        "colab": {
          "base_uri": "https://localhost:8080/"
        },
        "outputId": "0fe7c150-7009-4be9-d333-c7c09b6c19a4"
      },
      "execution_count": 49,
      "outputs": [
        {
          "output_type": "stream",
          "name": "stdout",
          "text": [
            "[0.0]\n"
          ]
        }
      ]
    },
    {
      "cell_type": "markdown",
      "source": [
        "19. Use uma função lambda para selecionar apenas os números pares de uma lista e, em seguida, somar esses números."
      ],
      "metadata": {
        "id": "lQNLMnw2bSGe"
      }
    },
    {
      "cell_type": "code",
      "source": [
        "lista19 = geral_idade()\n",
        "print(soma_par)"
      ],
      "metadata": {
        "id": "5CYGUyNmFPII",
        "colab": {
          "base_uri": "https://localhost:8080/"
        },
        "outputId": "da612cb4-0140-49b6-d7b6-3278a10caadb"
      },
      "execution_count": 50,
      "outputs": [
        {
          "output_type": "stream",
          "name": "stdout",
          "text": [
            "0\n"
          ]
        }
      ]
    },
    {
      "cell_type": "markdown",
      "source": [
        "20. Use uma função lambda para substituir números negativos de uma lista por 0 e manter os positivos."
      ],
      "metadata": {
        "id": "EG6zTFJVbV1t"
      }
    },
    {
      "cell_type": "code",
      "source": [
        "lista20 = geral_int()\n",
        "print(troca_negativo)"
      ],
      "metadata": {
        "id": "Wcu1rEizFPO_",
        "colab": {
          "base_uri": "https://localhost:8080/"
        },
        "outputId": "686337f7-3400-4c5c-ef64-da59d8b2b36e"
      },
      "execution_count": 51,
      "outputs": [
        {
          "output_type": "stream",
          "name": "stdout",
          "text": [
            "[0, 0, 0, 0, 0, 1, 2, 3, 4, 5]\n"
          ]
        }
      ]
    },
    {
      "cell_type": "markdown",
      "source": [
        "21. Use uma função lambda para retornar a lista de cubos de cada elemento em uma lista de números."
      ],
      "metadata": {
        "id": "_XurZtoIbaTm"
      }
    },
    {
      "cell_type": "code",
      "source": [
        "lista21 = geral_int()\n",
        "print(cubos)"
      ],
      "metadata": {
        "id": "wURcxNIFFQMY",
        "colab": {
          "base_uri": "https://localhost:8080/"
        },
        "outputId": "325a25ea-123e-4d52-862f-7a3eccdac084"
      },
      "execution_count": 52,
      "outputs": [
        {
          "output_type": "stream",
          "name": "stdout",
          "text": [
            "[-125, -64, -27, -8, -1, 1, 8, 27, 64, 125]\n"
          ]
        }
      ]
    },
    {
      "cell_type": "markdown",
      "source": [
        "22. Use uma função lambda para verificar se um número dado é primo (retornando True ou False)."
      ],
      "metadata": {
        "id": "-QucdlNFbq-e"
      }
    },
    {
      "cell_type": "code",
      "source": [
        "numero = input(\"Digite um numero: \")\n",
        "\n",
        "numero = int(numero)\n",
        "print(primo(numero))"
      ],
      "metadata": {
        "id": "_VzcDI0nFQS_",
        "colab": {
          "base_uri": "https://localhost:8080/"
        },
        "outputId": "767f5706-f132-419d-e436-3a1c14ee51e0"
      },
      "execution_count": 75,
      "outputs": [
        {
          "output_type": "stream",
          "name": "stdout",
          "text": [
            "Digite um numero: 12\n",
            "False\n"
          ]
        }
      ]
    },
    {
      "cell_type": "markdown",
      "source": [
        "23. Use uma função lambda para dividir cada elemento de uma lista por 5 e retornar a nova lista."
      ],
      "metadata": {
        "id": "It1MClGpbrV-"
      }
    },
    {
      "cell_type": "code",
      "source": [
        "lista23 = geral_int()\n",
        "print(divide_5)"
      ],
      "metadata": {
        "id": "qHizQNRWFQZ_",
        "colab": {
          "base_uri": "https://localhost:8080/"
        },
        "outputId": "171f04ba-5d0e-41dd-cd64-d4d308c31891"
      },
      "execution_count": 54,
      "outputs": [
        {
          "output_type": "stream",
          "name": "stdout",
          "text": [
            "[-1.0, -0.8, -0.6, -0.4, -0.2, 0.2, 0.4, 0.6, 0.8, 1.0]\n"
          ]
        }
      ]
    },
    {
      "cell_type": "markdown",
      "source": [
        "24. Use uma função lambda para remover todas as vogais de uma string dada."
      ],
      "metadata": {
        "id": "K1mxQO7JbrnN"
      }
    },
    {
      "cell_type": "code",
      "source": [
        "palavra = input(\"Digite uma palavra: \")\n",
        "print(remove_vogais(palavra))"
      ],
      "metadata": {
        "id": "IOhvRChyFQg_",
        "colab": {
          "base_uri": "https://localhost:8080/"
        },
        "outputId": "d7e6dec6-3fc8-43c4-db2e-51817a8bae7d"
      },
      "execution_count": 70,
      "outputs": [
        {
          "output_type": "stream",
          "name": "stdout",
          "text": [
            "Digite uma palavra: amor\n",
            "mr\n"
          ]
        }
      ]
    },
    {
      "cell_type": "markdown",
      "source": [
        "25. Use uma função lambda para converter todas as palavras em uma lista para letras maiúsculas.\n"
      ],
      "metadata": {
        "id": "dmQJaeAlbsC1"
      }
    },
    {
      "cell_type": "code",
      "source": [
        "lista25 = geral_str()\n",
        "print(maiusculas)"
      ],
      "metadata": {
        "id": "x92-wpgTFQoI",
        "colab": {
          "base_uri": "https://localhost:8080/"
        },
        "outputId": "562e37cd-d4da-4b54-b46d-b8e3b5e74dfe"
      },
      "execution_count": 56,
      "outputs": [
        {
          "output_type": "stream",
          "name": "stdout",
          "text": [
            "['SOFIA', 'JULIO', 'MATEUS', 'AFONSO', 'ROBERTA', 'PAULA', 'TIAGO', 'BEATRIZ', 'IGOR']\n"
          ]
        }
      ]
    },
    {
      "cell_type": "markdown",
      "source": [
        "26. Use uma função lambda para retornar apenas os números negativos de uma lista de inteiros."
      ],
      "metadata": {
        "id": "1Njh62SxbsZl"
      }
    },
    {
      "cell_type": "code",
      "source": [
        "lista26 = geral_int()\n",
        "print(negativos)"
      ],
      "metadata": {
        "id": "iN-xdG1WFQvH",
        "colab": {
          "base_uri": "https://localhost:8080/"
        },
        "outputId": "799faed4-d750-4009-8d75-29de5ed788f1"
      },
      "execution_count": 57,
      "outputs": [
        {
          "output_type": "stream",
          "name": "stdout",
          "text": [
            "[-5, -4, -3, -2, -1]\n"
          ]
        }
      ]
    },
    {
      "cell_type": "markdown",
      "source": [
        "27. Use uma função lambda para converter todos os números de uma lista para seus valores absolutos.\n"
      ],
      "metadata": {
        "id": "9BpA8j6Ebszm"
      }
    },
    {
      "cell_type": "code",
      "source": [
        "lista27 = geral_int()\n",
        "print(absolutos)"
      ],
      "metadata": {
        "id": "jnx09veYFQ2Q",
        "colab": {
          "base_uri": "https://localhost:8080/"
        },
        "outputId": "19a78529-1990-40ec-9552-55049d7c6dd4"
      },
      "execution_count": 58,
      "outputs": [
        {
          "output_type": "stream",
          "name": "stdout",
          "text": [
            "[5, 4, 3, 2, 1, 1, 2, 3, 4, 5]\n"
          ]
        }
      ]
    },
    {
      "cell_type": "markdown",
      "source": [
        "28. Use uma função lambda para retornar uma lista com o resto da divisão de cada elemento por 3.\n"
      ],
      "metadata": {
        "id": "yU0rsEf3btFX"
      }
    },
    {
      "cell_type": "code",
      "source": [
        "lista28 = geral_int()\n",
        "print(resto_3)"
      ],
      "metadata": {
        "id": "Exe-Mt1HFQ84",
        "colab": {
          "base_uri": "https://localhost:8080/"
        },
        "outputId": "d0ba9f22-2173-4492-814d-f8a55bea2caa"
      },
      "execution_count": 59,
      "outputs": [
        {
          "output_type": "stream",
          "name": "stdout",
          "text": [
            "[1, 2, 0, 1, 2, 1, 2, 0, 1, 2]\n"
          ]
        }
      ]
    },
    {
      "cell_type": "markdown",
      "source": [
        "29. Dada uma lista de números, use uma função lambda para multiplicar cada"
      ],
      "metadata": {
        "id": "6iRbnDU9btgN"
      }
    },
    {
      "cell_type": "code",
      "source": [
        "lista29 = geral_int()\n",
        "print(multiplica_indice)"
      ],
      "metadata": {
        "id": "o_3VaTIJFRDA",
        "colab": {
          "base_uri": "https://localhost:8080/"
        },
        "outputId": "d6b3a04f-9efb-4e24-c841-fd2063911f4b"
      },
      "execution_count": 60,
      "outputs": [
        {
          "output_type": "stream",
          "name": "stdout",
          "text": [
            "[0, -4, -6, -6, -4, 5, 12, 21, 32, 45]\n"
          ]
        }
      ]
    },
    {
      "cell_type": "markdown",
      "source": [
        "30. Use uma função lambda para verificar se uma palavra dada é um palíndromo (retornando True ou False)."
      ],
      "metadata": {
        "id": "s6-kN8lrbtwN"
      }
    },
    {
      "cell_type": "code",
      "source": [
        "palavra = input(\"Digite uma palavra: \")\n",
        "\n",
        "print(palindromo(palavra))"
      ],
      "metadata": {
        "id": "0e0gWpp9FRJo",
        "colab": {
          "base_uri": "https://localhost:8080/"
        },
        "outputId": "9b4103ca-e3e2-46fc-e240-f5c7eab2855a"
      },
      "execution_count": 71,
      "outputs": [
        {
          "output_type": "stream",
          "name": "stdout",
          "text": [
            "Digite uma palavra: arara\n",
            "True\n"
          ]
        }
      ]
    }
  ]
}