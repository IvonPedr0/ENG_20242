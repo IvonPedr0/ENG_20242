{
  "nbformat": 4,
  "nbformat_minor": 0,
  "metadata": {
    "colab": {
      "provenance": [],
      "authorship_tag": "ABX9TyNRHsId0fHwSWK8Dpj+FfTV",
      "include_colab_link": true
    },
    "kernelspec": {
      "name": "python3",
      "display_name": "Python 3"
    },
    "language_info": {
      "name": "python"
    }
  },
  "cells": [
    {
      "cell_type": "markdown",
      "metadata": {
        "id": "view-in-github",
        "colab_type": "text"
      },
      "source": [
        "<a href=\"https://colab.research.google.com/github/IvonPedr0/ENG_20242/blob/main/Atividade1/atv_conjunto_set_10102024.ipynb\" target=\"_parent\"><img src=\"https://colab.research.google.com/assets/colab-badge.svg\" alt=\"Open In Colab\"/></a>"
      ]
    },
    {
      "cell_type": "markdown",
      "source": [
        "# **Atividade 01 - Entrega 02/11**\n",
        "\n",
        "**Aluno:** Ivon Pedro da Silva Neto"
      ],
      "metadata": {
        "id": "1Q-xYjEFyrx8"
      }
    },
    {
      "cell_type": "markdown",
      "source": [
        "# Exercícios do dia 10/10/24"
      ],
      "metadata": {
        "id": "e8WOcML-yef_"
      }
    },
    {
      "cell_type": "markdown",
      "source": [
        "1 - Crie uma tupla chamada cidades que contenha os nomes de cinco cidades. Imprima a terceira cidade."
      ],
      "metadata": {
        "id": "GwidFbvuy4ZI"
      }
    },
    {
      "cell_type": "code",
      "execution_count": null,
      "metadata": {
        "colab": {
          "base_uri": "https://localhost:8080/",
          "height": 35
        },
        "id": "CoX_4BvrxFo7",
        "outputId": "127bfa1a-e53e-4157-da84-583daaa08342"
      },
      "outputs": [
        {
          "output_type": "execute_result",
          "data": {
            "text/plain": [
              "'Belo Horizonte'"
            ],
            "application/vnd.google.colaboratory.intrinsic+json": {
              "type": "string"
            }
          },
          "metadata": {},
          "execution_count": 1
        }
      ],
      "source": [
        "cidades = (\"São Paulo\", \"Rio de Janeiro\", \"Belo Horizonte\", \"Salvador\", \"Fortaleza\")\n",
        "cidades[2]"
      ]
    },
    {
      "cell_type": "markdown",
      "source": [
        "2 - Crie uma tupla chamada numeros com os seguintes valores: (1, 2, 3, 1, 4, 1). Utilize o método count() para contar quantas vezes o número 1 aparece na tupla."
      ],
      "metadata": {
        "id": "a5wK-kD8y50Q"
      }
    },
    {
      "cell_type": "code",
      "source": [
        "numeros = (1, 2, 3, 1, 4, 1)\n",
        "count_1 = numeros.count(1)\n",
        "count_1\n"
      ],
      "metadata": {
        "colab": {
          "base_uri": "https://localhost:8080/"
        },
        "id": "02dqGk6EyeEQ",
        "outputId": "6b5f6eb9-8d48-4d66-e4bf-8a1aa7853058"
      },
      "execution_count": null,
      "outputs": [
        {
          "output_type": "execute_result",
          "data": {
            "text/plain": [
              "3"
            ]
          },
          "metadata": {},
          "execution_count": 2
        }
      ]
    },
    {
      "cell_type": "markdown",
      "source": [
        "3 - Crie uma tupla chamada animais com os seguintes valores: ('cachorro', 'gato', 'pássaro'). Verifique se 'gato' está na tupla e imprima uma mensagem informando o resultado."
      ],
      "metadata": {
        "id": "Ws7FcmsKy_Yo"
      }
    },
    {
      "cell_type": "code",
      "source": [
        "animais = ('cachorro', 'gato', 'pássaro')\n",
        "\n",
        "if 'gato' in animais:\n",
        "  print(\"O animal 'gato' está presente na tupla.\")\n",
        "else:\n",
        "  print(\"O animal 'gato' não está presente na tupla.\")"
      ],
      "metadata": {
        "colab": {
          "base_uri": "https://localhost:8080/"
        },
        "id": "8jCOAO6mzfvV",
        "outputId": "dce0979e-e6e6-4f11-d035-f78ffbe9ada4"
      },
      "execution_count": null,
      "outputs": [
        {
          "output_type": "stream",
          "name": "stdout",
          "text": [
            "O animal 'gato' está presente na tupla.\n"
          ]
        }
      ]
    },
    {
      "cell_type": "markdown",
      "source": [
        "4 - Dada a tupla meses = ('janeiro', 'fevereiro', 'março', 'abril', 'maio'), encontre e imprima o índice do mês 'abril'."
      ],
      "metadata": {
        "id": "NYKU5UXiy_vP"
      }
    },
    {
      "cell_type": "code",
      "source": [
        "meses = ('janeiro', 'fevereiro', 'março', 'abril', 'maio')\n",
        "indice_abril = meses.index('abril')\n",
        "indice_abril"
      ],
      "metadata": {
        "colab": {
          "base_uri": "https://localhost:8080/"
        },
        "id": "y0vzJgKbzf_1",
        "outputId": "2f272abd-ff5c-4fa8-fbda-5e33886d169c"
      },
      "execution_count": null,
      "outputs": [
        {
          "output_type": "execute_result",
          "data": {
            "text/plain": [
              "3"
            ]
          },
          "metadata": {},
          "execution_count": 4
        }
      ]
    },
    {
      "cell_type": "markdown",
      "source": [
        "5 - Crie uma tupla chamada coordenadas que armazene a latitude e longitude de um local (ex: (-23.5505, -46.6333)). Imprima a latitude e a longitude separadamente."
      ],
      "metadata": {
        "id": "0o7a7Uc3zAAA"
      }
    },
    {
      "cell_type": "code",
      "source": [
        "coordenadas = (-23.5505, -46.6333)\n",
        "latitude = coordenadas[0]\n",
        "longitude = coordenadas[1]\n",
        "\n",
        "print(\"Latitude:\", latitude)\n",
        "print(\"Longitude:\", longitude)"
      ],
      "metadata": {
        "colab": {
          "base_uri": "https://localhost:8080/"
        },
        "id": "P02eFTeIzgfd",
        "outputId": "cc8606cf-5510-4c37-ad55-21a51de8576c"
      },
      "execution_count": null,
      "outputs": [
        {
          "output_type": "stream",
          "name": "stdout",
          "text": [
            "Latitude: -23.5505\n",
            "Longitude: -46.6333\n"
          ]
        }
      ]
    },
    {
      "cell_type": "markdown",
      "source": [
        "6 - Crie um dicionário chamado carro com as chaves marca, modelo e ano. Atribua valores de sua escolha e imprima o modelo do carro."
      ],
      "metadata": {
        "id": "ssZwVKfzzCFw"
      }
    },
    {
      "cell_type": "code",
      "source": [
        "carro = {\n",
        "    \"marca\": \"Fiat\",\n",
        "    \"modelo\": \"Uno\",\n",
        "    \"ano\": 1995\n",
        "}\n",
        "\n",
        "print(carro[\"modelo\"])"
      ],
      "metadata": {
        "colab": {
          "base_uri": "https://localhost:8080/"
        },
        "id": "cpuoY5Kuzg5l",
        "outputId": "fc04c139-3ea8-4ccd-a670-ee158df7fc44"
      },
      "execution_count": null,
      "outputs": [
        {
          "output_type": "stream",
          "name": "stdout",
          "text": [
            "Uno\n"
          ]
        }
      ]
    },
    {
      "cell_type": "markdown",
      "source": [
        "7 - Use o dicionário carro que você criou no exercício anterior. Adicione uma nova chave chamada cor e atribua uma cor ao carro. Em seguida, imprima o dicionário completo."
      ],
      "metadata": {
        "id": "t3SyWaYyzCVY"
      }
    },
    {
      "cell_type": "code",
      "source": [
        "carro[\"cor\"] = \"vermelho\"\n",
        "carro"
      ],
      "metadata": {
        "colab": {
          "base_uri": "https://localhost:8080/"
        },
        "id": "OBgOQ7wszhYt",
        "outputId": "d7a9dfe1-93b1-4e21-f3dd-4e4122f868d0"
      },
      "execution_count": null,
      "outputs": [
        {
          "output_type": "execute_result",
          "data": {
            "text/plain": [
              "{'marca': 'Fiat', 'modelo': 'Uno', 'ano': 1995, 'cor': 'vermelho'}"
            ]
          },
          "metadata": {},
          "execution_count": 7
        }
      ]
    },
    {
      "cell_type": "markdown",
      "source": [
        "8 - Dado o dicionário pessoa = {'nome': 'João', 'idade': 30, 'cidade': 'São Paulo'}, remova a chave idade e imprima o dicionário resultante."
      ],
      "metadata": {
        "id": "Q0Y_fYUhzClY"
      }
    },
    {
      "cell_type": "code",
      "source": [
        "pessoa = {'nome': 'João', 'idade': 30, 'cidade': 'São Paulo'}\n",
        "del pessoa['idade']\n",
        "pessoa"
      ],
      "metadata": {
        "colab": {
          "base_uri": "https://localhost:8080/"
        },
        "id": "9cn1WxBIzhq1",
        "outputId": "34d3d99d-3783-4ce2-ef83-858b197bf31b"
      },
      "execution_count": null,
      "outputs": [
        {
          "output_type": "execute_result",
          "data": {
            "text/plain": [
              "{'nome': 'João', 'cidade': 'São Paulo'}"
            ]
          },
          "metadata": {},
          "execution_count": 8
        }
      ]
    },
    {
      "cell_type": "markdown",
      "source": [
        "9 - Crie um dicionário chamado produto que contenha nome, preco e quantidade. Use um loop for para imprimir todos os pares chave/valor."
      ],
      "metadata": {
        "id": "wzoDhXvyzC2w"
      }
    },
    {
      "cell_type": "code",
      "source": [
        "produto = {\n",
        "    \"nome\": \"Notebook\",\n",
        "    \"preco\": 2500.00,\n",
        "    \"quantidade\": 10\n",
        "}\n",
        "\n",
        "for chave, valor in produto.items():\n",
        "  print(f\"{chave}: {valor}\")"
      ],
      "metadata": {
        "colab": {
          "base_uri": "https://localhost:8080/"
        },
        "id": "04hqT_iGziFV",
        "outputId": "2745b64c-105c-457f-cf07-2de75b07fcd9"
      },
      "execution_count": null,
      "outputs": [
        {
          "output_type": "stream",
          "name": "stdout",
          "text": [
            "nome: Notebook\n",
            "preco: 2500.0\n",
            "quantidade: 10\n"
          ]
        }
      ]
    },
    {
      "cell_type": "markdown",
      "source": [
        "10 - Dado o dicionário estudante = {'nome': 'Maria', 'curso': 'Biologia', 'ano': 2}, verifique se a chave curso existe. Se existir, imprima \"A estudante está no curso de Biologia.\"\n",
        "\n"
      ],
      "metadata": {
        "id": "7lU6e8x7zDKP"
      }
    },
    {
      "cell_type": "code",
      "source": [
        "estudante = {'nome': 'Maria', 'curso': 'Biologia', 'ano': 2}\n",
        "if 'curso' in estudante:\n",
        "  print(\"A estudante está no curso de Biologia.\")"
      ],
      "metadata": {
        "colab": {
          "base_uri": "https://localhost:8080/"
        },
        "id": "aOOpmkvdziid",
        "outputId": "c1f45774-bb8a-4bba-f715-bf66dc26dd18"
      },
      "execution_count": null,
      "outputs": [
        {
          "output_type": "stream",
          "name": "stdout",
          "text": [
            "A estudante está no curso de Biologia.\n"
          ]
        }
      ]
    },
    {
      "cell_type": "markdown",
      "source": [
        "# Exercícios do dia 21/10/24"
      ],
      "metadata": {
        "id": "5UCjyQjp0ESz"
      }
    },
    {
      "cell_type": "markdown",
      "source": [
        "1 - Crie um conjunto chamado `frutas` que contenha os seguintes elementos: \"maçã\", \"banana\", \"laranja\" e \"uva\". Depois de criar o conjunto, exiba-o no console para confirmar os elementos adicionados."
      ],
      "metadata": {
        "id": "NaRN3o1t0KOL"
      }
    },
    {
      "cell_type": "code",
      "source": [
        "frutas = {\"maçã\", \"banana\", \"laranja\", \"uva\"}\n",
        "frutas"
      ],
      "metadata": {
        "colab": {
          "base_uri": "https://localhost:8080/"
        },
        "id": "V3DsroLp0rOt",
        "outputId": "31bc711a-0b7f-4a16-ece5-3e6f38e2c4fd"
      },
      "execution_count": null,
      "outputs": [
        {
          "output_type": "execute_result",
          "data": {
            "text/plain": [
              "{'banana', 'laranja', 'maçã', 'uva'}"
            ]
          },
          "metadata": {},
          "execution_count": 11
        }
      ]
    },
    {
      "cell_type": "markdown",
      "source": [
        "2 - Utilizando o conjunto `frutas` criado anteriormente, adicione a fruta \"morango\" ao conjunto. Lembre-se que conjuntos não permitem duplicatas, então adicione um elemento que já exista para verificar o comportamento."
      ],
      "metadata": {
        "id": "NAkcHrHV0N2z"
      }
    },
    {
      "cell_type": "code",
      "source": [
        "frutas.add(\"morango\")\n",
        "frutas.add(\"maçã\")\n",
        "frutas"
      ],
      "metadata": {
        "colab": {
          "base_uri": "https://localhost:8080/"
        },
        "id": "olREPr2P0rz9",
        "outputId": "e5c919bb-018d-4d66-bdb9-9330e7309623"
      },
      "execution_count": null,
      "outputs": [
        {
          "output_type": "execute_result",
          "data": {
            "text/plain": [
              "{'banana', 'laranja', 'maçã', 'morango', 'uva'}"
            ]
          },
          "metadata": {},
          "execution_count": 12
        }
      ]
    },
    {
      "cell_type": "markdown",
      "source": [
        "3 - Remova a fruta \"banana\" do conjunto `frutas`. Se \"banana\" não estiver presente, o código pode gerar um erro. Verifique se a fruta existe antes de removê-la ou trate o erro adequadamente."
      ],
      "metadata": {
        "id": "TDX1pFZU0OLT"
      }
    },
    {
      "cell_type": "code",
      "source": [
        "if \"banana\" in frutas:\n",
        "  frutas.remove(\"banana\")\n",
        "else:\n",
        "  print(\"A fruta 'banana' não está presente no conjunto.\")\n",
        "\n",
        "frutas"
      ],
      "metadata": {
        "colab": {
          "base_uri": "https://localhost:8080/"
        },
        "id": "_PSJSjrS0sPD",
        "outputId": "fe604fde-a59f-46b5-9413-915b9e18b5a1"
      },
      "execution_count": null,
      "outputs": [
        {
          "output_type": "execute_result",
          "data": {
            "text/plain": [
              "{'laranja', 'maçã', 'morango', 'uva'}"
            ]
          },
          "metadata": {},
          "execution_count": 13
        }
      ]
    },
    {
      "cell_type": "markdown",
      "source": [
        "4 - Verifique se a fruta \"laranja\" está presente no conjunto `frutas` usando uma estrutura condicional. Exiba uma mensagem no console indicando se \"laranja\" está ou não presente no conjunto."
      ],
      "metadata": {
        "id": "8XU-JwK30OcD"
      }
    },
    {
      "cell_type": "code",
      "source": [
        "if \"laranja\" in frutas:\n",
        "  print(\"A fruta 'laranja' está presente no conjunto.\")\n",
        "else:\n",
        "  print(\"A fruta 'laranja' não está presente no conjunto.\")"
      ],
      "metadata": {
        "colab": {
          "base_uri": "https://localhost:8080/"
        },
        "id": "wNk6JBtW0sqE",
        "outputId": "b1e5c019-d96b-48cf-e410-564aac79e4c8"
      },
      "execution_count": null,
      "outputs": [
        {
          "output_type": "stream",
          "name": "stdout",
          "text": [
            "A fruta 'laranja' está presente no conjunto.\n"
          ]
        }
      ]
    },
    {
      "cell_type": "markdown",
      "source": [
        "5 - Crie um segundo conjunto chamado `citrus`, contendo \"laranja\", \"limão\" e \"tangerina\". Faça a união dos conjuntos `frutas` e `citrus`, criando um novo conjunto que contém todos os elementos dos dois conjuntos. Exiba o resultado dessa união."
      ],
      "metadata": {
        "id": "TuKhgx9V0O7s"
      }
    },
    {
      "cell_type": "code",
      "source": [
        "citrus = {\"laranja\", \"limão\", \"tangerina\"}\n",
        "uniao_frutas_citrus = frutas.union(citrus)\n",
        "uniao_frutas_citrus"
      ],
      "metadata": {
        "colab": {
          "base_uri": "https://localhost:8080/"
        },
        "id": "HdhkDHB10tBk",
        "outputId": "02928c93-0bd1-4e1f-ddf3-a4e9dcc69229"
      },
      "execution_count": null,
      "outputs": [
        {
          "output_type": "execute_result",
          "data": {
            "text/plain": [
              "{'laranja', 'limão', 'maçã', 'morango', 'tangerina', 'uva'}"
            ]
          },
          "metadata": {},
          "execution_count": 15
        }
      ]
    },
    {
      "cell_type": "markdown",
      "source": [
        "6 - Usando os conjuntos `frutas` e `citrus`, encontre a interseção entre eles, ou seja, os elementos que estão presentes em ambos os conjuntos. Exiba os elementos comuns."
      ],
      "metadata": {
        "id": "VNPtlTWG0PM8"
      }
    },
    {
      "cell_type": "code",
      "source": [
        "frutas = {\"maçã\", \"banana\", \"laranja\", \"uva\"}\n",
        "citrus = {\"laranja\", \"limão\", \"tangerina\"}\n",
        "\n",
        "intersecao = frutas.intersection(citrus)\n",
        "intersecao"
      ],
      "metadata": {
        "colab": {
          "base_uri": "https://localhost:8080/"
        },
        "id": "c-ZZumMr0ti7",
        "outputId": "83db82b8-1b23-4c34-f0ef-6f8c7351396b"
      },
      "execution_count": null,
      "outputs": [
        {
          "output_type": "execute_result",
          "data": {
            "text/plain": [
              "{'laranja'}"
            ]
          },
          "metadata": {},
          "execution_count": 16
        }
      ]
    },
    {
      "cell_type": "markdown",
      "source": [
        "7 - Encontre a diferença entre os conjuntos `frutas` e `citrus`, ou seja, os elementos que estão em `frutas` mas não estão em `citrus`. Exiba o resultado dessa diferença."
      ],
      "metadata": {
        "id": "GEO7C8Ih0Pk8"
      }
    },
    {
      "cell_type": "code",
      "source": [
        "diferenca = frutas.difference(citrus)\n",
        "diferenca"
      ],
      "metadata": {
        "colab": {
          "base_uri": "https://localhost:8080/"
        },
        "id": "i1RWLb8P0t98",
        "outputId": "233304c9-aeb2-4a75-b75a-82191cd5bb85"
      },
      "execution_count": null,
      "outputs": [
        {
          "output_type": "execute_result",
          "data": {
            "text/plain": [
              "{'banana', 'maçã', 'uva'}"
            ]
          },
          "metadata": {},
          "execution_count": 17
        }
      ]
    },
    {
      "cell_type": "markdown",
      "source": [
        "8 - Esvazie completamente o conjunto `citrus` usando um método específico que remove todos os elementos de um conjunto. Verifique se o conjunto foi realmente esvaziado ao exibi-lo no console após a operação."
      ],
      "metadata": {
        "id": "dPMmyGJm0Pz0"
      }
    },
    {
      "cell_type": "code",
      "source": [
        "citrus = {\"laranja\", \"limão\", \"tangerina\"}\n",
        "citrus.clear()\n",
        "citrus"
      ],
      "metadata": {
        "colab": {
          "base_uri": "https://localhost:8080/"
        },
        "id": "75G_ZcPJ0uZs",
        "outputId": "4e4d97e3-c73e-4acb-d8d1-bae607cb8c6c"
      },
      "execution_count": null,
      "outputs": [
        {
          "output_type": "execute_result",
          "data": {
            "text/plain": [
              "set()"
            ]
          },
          "metadata": {},
          "execution_count": 18
        }
      ]
    },
    {
      "cell_type": "markdown",
      "source": [
        "9 - Converta o conjunto `frutas` em um conjunto imutável, ou seja, um conjunto que não pode ser alterado após sua criação. Crie esse conjunto imutável e exiba-o no console."
      ],
      "metadata": {
        "id": "nMX6QDv40QCk"
      }
    },
    {
      "cell_type": "code",
      "source": [
        "frutas_imutavel = frozenset(frutas)\n",
        "frutas_imutavel"
      ],
      "metadata": {
        "colab": {
          "base_uri": "https://localhost:8080/"
        },
        "id": "J_aRCkiD0u0b",
        "outputId": "a241bf8c-884a-40f7-9c69-96d66c6ff0a6"
      },
      "execution_count": null,
      "outputs": [
        {
          "output_type": "execute_result",
          "data": {
            "text/plain": [
              "frozenset({'banana', 'laranja', 'maçã', 'uva'})"
            ]
          },
          "metadata": {},
          "execution_count": 19
        }
      ]
    },
    {
      "cell_type": "markdown",
      "source": [
        "10 - Conte quantos elementos únicos existem no conjunto `frutas` e exiba o número total de elementos no console."
      ],
      "metadata": {
        "id": "-wRvVn000QTs"
      }
    },
    {
      "cell_type": "code",
      "source": [
        "frutas = {\"maçã\", \"banana\", \"laranja\", \"uva\"}\n",
        "numero_elementos = len(frutas)\n",
        "numero_elementos"
      ],
      "metadata": {
        "colab": {
          "base_uri": "https://localhost:8080/"
        },
        "id": "qFN0e47e0qeU",
        "outputId": "4e2b6fe6-3459-48f8-9da1-fc6a6ff00510"
      },
      "execution_count": null,
      "outputs": [
        {
          "output_type": "execute_result",
          "data": {
            "text/plain": [
              "4"
            ]
          },
          "metadata": {},
          "execution_count": 20
        }
      ]
    },
    {
      "cell_type": "markdown",
      "source": [
        "# Exercícios do dia 24/10/24"
      ],
      "metadata": {
        "id": "23HSTAsq0vbU"
      }
    },
    {
      "cell_type": "markdown",
      "source": [
        "1. Crie uma lista contendo cinco números inteiros de sua escolha. Em seguida, percorra essa lista e imprima o valor de cada elemento multiplicado por 2. O resultado deve mostrar o novo valor de cada elemento, um por vez."
      ],
      "metadata": {
        "id": "_egabZpf01mD"
      }
    },
    {
      "cell_type": "code",
      "source": [
        "lista = [1, 2, 3, 4, 5]\n",
        "for num in lista: novo_valor = num * 2\n",
        "print(novo_valor)"
      ],
      "metadata": {
        "colab": {
          "base_uri": "https://localhost:8080/"
        },
        "id": "9f9F512V1zC_",
        "outputId": "0cbad9e6-7337-49a1-d046-d20aaeb4be49"
      },
      "execution_count": null,
      "outputs": [
        {
          "output_type": "stream",
          "name": "stdout",
          "text": [
            "10\n"
          ]
        }
      ]
    },
    {
      "cell_type": "markdown",
      "source": [
        "2. Dada a lista [\"maçã\", \"banana\", \"laranja\", \"uva\"], remova o item \"banana\" da lista e adicione a fruta \"melancia\" no lugar. Depois, mostre a nova lista atualizada com as alterações feitas."
      ],
      "metadata": {
        "id": "9caRQZgo040T"
      }
    },
    {
      "cell_type": "code",
      "source": [
        "lista_frutas = [\"maçã\", \"banana\", \"laranja\", \"uva\"]\n",
        "\n",
        "indice_banana = lista_frutas.index(\"banana\")\n",
        "lista_frutas[indice_banana] = \"melancia\"\n",
        "\n",
        "lista_frutas"
      ],
      "metadata": {
        "colab": {
          "base_uri": "https://localhost:8080/"
        },
        "id": "g5rglZhZ1y0f",
        "outputId": "d30dd8ab-8b4e-41be-d2b7-3d5230ce8eda"
      },
      "execution_count": null,
      "outputs": [
        {
          "output_type": "execute_result",
          "data": {
            "text/plain": [
              "['maçã', 'melancia', 'laranja', 'uva']"
            ]
          },
          "metadata": {},
          "execution_count": 33
        }
      ]
    },
    {
      "cell_type": "markdown",
      "source": [
        "3. Escreva um programa que receba uma lista de números inteiros e exiba qual é o maior número e qual é o menor número presente na lista. Certifique-se de mostrar ambos os valores ao final."
      ],
      "metadata": {
        "id": "q2-GGErn05EL"
      }
    },
    {
      "cell_type": "code",
      "source": [
        "def encontrar_maior_menor(numeros):\n",
        "    if not numeros or not all(isinstance(num, int) for num in numeros):\n",
        "        return None\n",
        "\n",
        "    maior = menor = numeros[0]\n",
        "\n",
        "    for numero in numeros:\n",
        "        maior = max(maior, numero)\n",
        "        menor = min(menor, numero)\n",
        "\n",
        "    return maior, menor\n",
        "\n",
        "numeros = [1, 5, 2, 8, 3]\n",
        "maior, menor = encontrar_maior_menor(numeros)\n",
        "\n",
        "if maior is not None and menor is not None:\n",
        "    print(\"Maior número:\", maior)\n",
        "    print(\"Menor número:\", menor)\n",
        "else:\n",
        "    print(\"A lista está vazia ou contém elementos inválidos.\")"
      ],
      "metadata": {
        "colab": {
          "base_uri": "https://localhost:8080/"
        },
        "id": "QBOe4ijv6VGD",
        "outputId": "b8eba2dc-be9a-4c81-97f3-4f0e659e40f6"
      },
      "execution_count": null,
      "outputs": [
        {
          "output_type": "stream",
          "name": "stdout",
          "text": [
            "Maior número: 8\n",
            "Menor número: 1\n"
          ]
        }
      ]
    },
    {
      "cell_type": "markdown",
      "source": [
        "4. Crie uma função que receba uma lista contendo várias palavras (strings). A função deve devolver uma nova lista que contenha a quantidade de letras de cada palavra da lista original. Exiba essa nova lista com o número de letras correspondente a cada palavra."
      ],
      "metadata": {
        "id": "fDqsq-eZ05Rz"
      }
    },
    {
      "cell_type": "code",
      "source": [
        "def contar_letras(lista_palavras):\n",
        "\n",
        "    numero_letras = []\n",
        "    for palavra in lista_palavras:\n",
        "        numero_letras.append(len(palavra))\n",
        "    return numero_letras\n",
        "\n",
        "palavras = [\"abacaxi\", \"banana\", \"maçã\", \"uva\"]\n",
        "quantidades = contar_letras(palavras)\n",
        "quantidades"
      ],
      "metadata": {
        "colab": {
          "base_uri": "https://localhost:8080/"
        },
        "id": "EH74F0Se1yIv",
        "outputId": "a1d9e777-d111-4cb4-afcb-5b6e358a96fa"
      },
      "execution_count": null,
      "outputs": [
        {
          "output_type": "execute_result",
          "data": {
            "text/plain": [
              "[7, 6, 4, 3]"
            ]
          },
          "metadata": {},
          "execution_count": 41
        }
      ]
    },
    {
      "cell_type": "markdown",
      "source": [
        "5. Dada uma lista de números inteiros que você vai definir, ordene essa lista em ordem crescente e depois exiba o resultado da lista ordenada."
      ],
      "metadata": {
        "id": "JP3zbt3y05jL"
      }
    },
    {
      "cell_type": "code",
      "source": [
        "numeros = [5, 2, 8, 1, 9, 4]\n",
        "numeros.sort()\n",
        "numeros"
      ],
      "metadata": {
        "colab": {
          "base_uri": "https://localhost:8080/"
        },
        "id": "jf9enCVD1xwH",
        "outputId": "a6e915d0-72d6-42bd-e30d-30ffab591e83"
      },
      "execution_count": null,
      "outputs": [
        {
          "output_type": "execute_result",
          "data": {
            "text/plain": [
              "[1, 2, 4, 5, 8, 9]"
            ]
          },
          "metadata": {},
          "execution_count": 42
        }
      ]
    },
    {
      "cell_type": "markdown",
      "source": [
        "6. Crie uma tupla que contenha os números de 1 a 5. Tente alterar o valor do segundo elemento dessa tupla e observe o que acontece. No final, explique por que você conseguiu ou não modificar o valor."
      ],
      "metadata": {
        "id": "ivIkNHda052L"
      }
    },
    {
      "cell_type": "code",
      "source": [
        "numeros_tupla = (1, 2, 3, 4, 5)\n",
        "\n",
        "# Tentativa de alterar o segundo elemento\n",
        "numeros_tupla[1] = 10\n",
        "\n",
        "# Explicação:\n",
        "# Tuplas em Python são imutáveis. Isso significa que, uma vez criadas, seus elementos não podem ser modificados, adicionados ou removidos.\n",
        "# A tentativa de alterar um elemento de uma tupla resultará em um erro.\n",
        "# Para modificar elementos, é preciso converter a tupla para uma lista, realizar as alterações e, se necessário, reconverter a lista para tupla."
      ],
      "metadata": {
        "colab": {
          "base_uri": "https://localhost:8080/",
          "height": 211
        },
        "id": "-HyNdGdx1xTv",
        "outputId": "6d0cb210-9a19-4f1c-bb7a-bff0ed0f1a57"
      },
      "execution_count": null,
      "outputs": [
        {
          "output_type": "error",
          "ename": "TypeError",
          "evalue": "'tuple' object does not support item assignment",
          "traceback": [
            "\u001b[0;31m---------------------------------------------------------------------------\u001b[0m",
            "\u001b[0;31mTypeError\u001b[0m                                 Traceback (most recent call last)",
            "\u001b[0;32m<ipython-input-43-8eae77378fdc>\u001b[0m in \u001b[0;36m<cell line: 4>\u001b[0;34m()\u001b[0m\n\u001b[1;32m      2\u001b[0m \u001b[0;34m\u001b[0m\u001b[0m\n\u001b[1;32m      3\u001b[0m \u001b[0;31m# Tentativa de alterar o segundo elemento\u001b[0m\u001b[0;34m\u001b[0m\u001b[0;34m\u001b[0m\u001b[0m\n\u001b[0;32m----> 4\u001b[0;31m \u001b[0mnumeros_tupla\u001b[0m\u001b[0;34m[\u001b[0m\u001b[0;36m1\u001b[0m\u001b[0;34m]\u001b[0m \u001b[0;34m=\u001b[0m \u001b[0;36m10\u001b[0m\u001b[0;34m\u001b[0m\u001b[0;34m\u001b[0m\u001b[0m\n\u001b[0m\u001b[1;32m      5\u001b[0m \u001b[0;34m\u001b[0m\u001b[0m\n\u001b[1;32m      6\u001b[0m \u001b[0;31m# Explicação:\u001b[0m\u001b[0;34m\u001b[0m\u001b[0;34m\u001b[0m\u001b[0m\n",
            "\u001b[0;31mTypeError\u001b[0m: 'tuple' object does not support item assignment"
          ]
        }
      ]
    },
    {
      "cell_type": "markdown",
      "source": [
        "7. Escreva um programa que receba uma tupla contendo diversos números inteiros. O programa deve calcular e exibir a soma de todos os números presentes na tupla."
      ],
      "metadata": {
        "id": "UeYdQKUv06Cr"
      }
    },
    {
      "cell_type": "code",
      "source": [
        "def calcular_soma_tupla(tupla_numeros):\n",
        "\n",
        "    soma = 0\n",
        "    for numero in tupla_numeros:\n",
        "        soma += numero\n",
        "    return soma\n",
        "\n",
        "numeros = (1, 2, 3, 4, 5)\n",
        "soma_total = calcular_soma_tupla(numeros)\n",
        "print(\"A soma dos números na tupla é:\", soma_total)"
      ],
      "metadata": {
        "colab": {
          "base_uri": "https://localhost:8080/"
        },
        "id": "7A5THc7C1xF_",
        "outputId": "a2c1f3c4-2f7d-4ef6-9c86-253610fa9543"
      },
      "execution_count": null,
      "outputs": [
        {
          "output_type": "stream",
          "name": "stdout",
          "text": [
            "A soma dos números na tupla é: 15\n"
          ]
        }
      ]
    },
    {
      "cell_type": "markdown",
      "source": [
        "8. Dada uma tupla que contém cinco números, crie uma função que retorne o primeiro e o último número dessa tupla. O programa deve imprimir ambos os valores corretamente."
      ],
      "metadata": {
        "id": "SQCsTKuz06Sc"
      }
    },
    {
      "cell_type": "code",
      "source": [
        "def retorna_primeiro_ultimo(tupla):\n",
        "    if len(tupla) >= 1:\n",
        "        return tupla[0], tupla[-1]\n",
        "    else:\n",
        "        return None, None\n",
        "\n",
        "numeros = (10, 20, 30, 40, 50)\n",
        "primeiro, ultimo = retorna_primeiro_ultimo(numeros)\n",
        "\n",
        "if primeiro is not None and ultimo is not None:\n",
        "    print(\"Primeiro número:\", primeiro)\n",
        "    print(\"Último número:\", ultimo)\n",
        "else:\n",
        "    print(\"A tupla não possui elementos suficientes.\")\n",
        "\n",
        "numeros = (1,)\n",
        "primeiro, ultimo = retorna_primeiro_ultimo(numeros)\n",
        "\n",
        "if primeiro is not None and ultimo is not None:\n",
        "    print(\"Primeiro número:\", primeiro)\n",
        "    print(\"Último número:\", ultimo)\n",
        "else:\n",
        "    print(\"A tupla não possui elementos suficientes.\")\n",
        "\n",
        "numeros = ()\n",
        "primeiro, ultimo = retorna_primeiro_ultimo(numeros)\n",
        "\n",
        "if primeiro is not None and ultimo is not None:\n",
        "    print(\"Primeiro número:\", primeiro)\n",
        "    print(\"Último número:\", ultimo)\n",
        "else:\n",
        "    print(\"A tupla não possui elementos suficientes.\")"
      ],
      "metadata": {
        "colab": {
          "base_uri": "https://localhost:8080/"
        },
        "id": "2ZZonQzK1whX",
        "outputId": "71aed237-f6fc-49ec-881a-55b70bcc5cfe"
      },
      "execution_count": null,
      "outputs": [
        {
          "output_type": "stream",
          "name": "stdout",
          "text": [
            "Primeiro número: 10\n",
            "Último número: 50\n",
            "Primeiro número: 1\n",
            "Último número: 1\n",
            "A tupla não possui elementos suficientes.\n"
          ]
        }
      ]
    },
    {
      "cell_type": "markdown",
      "source": [
        "9. Converta a lista [\"a\", \"b\", \"c\", \"d\"] em uma tupla e, em seguida, exiba o tipo do novo objeto que foi criado. O programa deve deixar claro que o tipo mudou de lista para tupla."
      ],
      "metadata": {
        "id": "3U4XzfBH06nk"
      }
    },
    {
      "cell_type": "code",
      "source": [
        "tupla = tuple(lista)\n",
        "\n",
        "print(f\"O tipo do objeto mudou de {type(lista)} para {type(tupla)}\")"
      ],
      "metadata": {
        "colab": {
          "base_uri": "https://localhost:8080/"
        },
        "id": "YXYWBrep1wS2",
        "outputId": "7c2ca620-6312-46be-e184-444a1d6dfd84"
      },
      "execution_count": null,
      "outputs": [
        {
          "output_type": "stream",
          "name": "stdout",
          "text": [
            "O tipo do objeto mudou de <class 'list'> para <class 'tuple'>\n"
          ]
        }
      ]
    },
    {
      "cell_type": "markdown",
      "source": [
        "10. Crie uma tupla com três números inteiros e uma string. Depois, verifique se o número 3 está presente nessa tupla e mostre uma mensagem dizendo se o número foi encontrado ou não."
      ],
      "metadata": {
        "id": "w7UQ9VI-063c"
      }
    },
    {
      "cell_type": "code",
      "source": [
        "tupla = (1, 2, 3, \"quatro\")\n",
        "\n",
        "if 3 in tupla:\n",
        "  print(\"O número 3 foi encontrado na tupla.\")\n",
        "else:\n",
        "  print(\"O número 3 não foi encontrado na tupla.\")"
      ],
      "metadata": {
        "colab": {
          "base_uri": "https://localhost:8080/"
        },
        "id": "jxCgxvP01wBX",
        "outputId": "829bcaad-bd85-4513-9065-3df37ccc826c"
      },
      "execution_count": null,
      "outputs": [
        {
          "output_type": "stream",
          "name": "stdout",
          "text": [
            "O número 3 foi encontrado na tupla.\n"
          ]
        }
      ]
    },
    {
      "cell_type": "markdown",
      "source": [
        "11. Crie dois sets: set1 = {1, 2, 3, 4} e set2 = {3, 4, 5, 6}. Exiba a união dos dois sets (todos os elementos sem repetição), a interseção (elementos que aparecem nos dois sets) e a diferença (elementos presentes no primeiro set, mas não no segundo). Mostre os resultados de cada operação."
      ],
      "metadata": {
        "id": "lSYufKgi07IN"
      }
    },
    {
      "cell_type": "code",
      "source": [
        "set1 = {1, 2, 3, 4}\n",
        "set2 = {3, 4, 5, 6}\n",
        "\n",
        "uniao = set1.union(set2)\n",
        "print(\"União:\", uniao)\n",
        "\n",
        "intersecao = set1.intersection(set2)\n",
        "print(\"Interseção:\", intersecao)\n",
        "\n",
        "diferenca = set1.difference(set2)\n",
        "print(\"Diferença (set1 - set2):\", diferenca)"
      ],
      "metadata": {
        "colab": {
          "base_uri": "https://localhost:8080/"
        },
        "id": "dh1cZCAh1vmv",
        "outputId": "8c25bb36-2f9c-40f0-ca48-97f35fb8344d"
      },
      "execution_count": null,
      "outputs": [
        {
          "output_type": "stream",
          "name": "stdout",
          "text": [
            "União: {1, 2, 3, 4, 5, 6}\n",
            "Interseção: {3, 4}\n",
            "Diferença (set1 - set2): {1, 2}\n"
          ]
        }
      ]
    },
    {
      "cell_type": "markdown",
      "source": [
        "12. Dada a lista [1, 2, 2, 3, 4, 4, 5], remova os elementos duplicados transformando a lista em um set. Ao final, exiba o set resultante, que deve conter apenas valores únicos."
      ],
      "metadata": {
        "id": "xyac4eG607b9"
      }
    },
    {
      "cell_type": "code",
      "source": [
        "lista = [1, 2, 2, 3, 4, 4, 5]\n",
        "set_unico = set(lista)\n",
        "set_unico"
      ],
      "metadata": {
        "colab": {
          "base_uri": "https://localhost:8080/"
        },
        "id": "wcXtdCWr1vUv",
        "outputId": "6dd4893a-b4b4-43d6-f5e8-7fa610da3331"
      },
      "execution_count": null,
      "outputs": [
        {
          "output_type": "execute_result",
          "data": {
            "text/plain": [
              "{1, 2, 3, 4, 5}"
            ]
          },
          "metadata": {},
          "execution_count": 50
        }
      ]
    },
    {
      "cell_type": "markdown",
      "source": [
        "13. Crie um set contendo os valores {5, 10, 15, 20}. Adicione o número 25 a esse set e depois remova o valor 15. Mostre o set após cada alteração."
      ],
      "metadata": {
        "id": "2BJyb5HT07rW"
      }
    },
    {
      "cell_type": "code",
      "source": [
        "meu_set = {5, 10, 15, 20}\n",
        "print(meu_set)\n",
        "\n",
        "meu_set.add(25)\n",
        "print(meu_set)\n",
        "\n",
        "meu_set.remove(15)\n",
        "meu_set"
      ],
      "metadata": {
        "colab": {
          "base_uri": "https://localhost:8080/"
        },
        "id": "WgNmAb3Z1u6n",
        "outputId": "9d457d72-b2ed-4ddf-ccf6-4aa266b8022c"
      },
      "execution_count": null,
      "outputs": [
        {
          "output_type": "stream",
          "name": "stdout",
          "text": [
            "{10, 20, 5, 15}\n",
            "{5, 10, 15, 20, 25}\n"
          ]
        },
        {
          "output_type": "execute_result",
          "data": {
            "text/plain": [
              "{5, 10, 20, 25}"
            ]
          },
          "metadata": {},
          "execution_count": 51
        }
      ]
    },
    {
      "cell_type": "markdown",
      "source": [
        "14. Verifique se o número 7 está presente no set {1, 2, 3, 4, 5}. O programa deve exibir uma mensagem informando se o número foi encontrado ou não no set."
      ],
      "metadata": {
        "id": "FcxcHi3807_W"
      }
    },
    {
      "cell_type": "code",
      "source": [
        "meu_set = {1, 2, 3, 4, 5}\n",
        "\n",
        "if 7 in meu_set:\n",
        "  print(\"O número 7 foi encontrado no set.\")\n",
        "else:\n",
        "  print(\"O número 7 não foi encontrado no set.\")"
      ],
      "metadata": {
        "colab": {
          "base_uri": "https://localhost:8080/"
        },
        "id": "mQGI1T1U1uL-",
        "outputId": "f9d42093-6f6d-45ef-db6d-afee94d6a8e3"
      },
      "execution_count": null,
      "outputs": [
        {
          "output_type": "stream",
          "name": "stdout",
          "text": [
            "O número 7 não foi encontrado no set.\n"
          ]
        }
      ]
    },
    {
      "cell_type": "markdown",
      "source": [
        "15. Crie um set vazio e adicione vários valores a ele usando um laço de repetição (por exemplo, um for ou while). No final, mostre todos os valores armazenados no set."
      ],
      "metadata": {
        "id": "UJ4vZoDA08P-"
      }
    },
    {
      "cell_type": "code",
      "source": [
        "meu_set = set()\n",
        "\n",
        "for i in range(1, 11):\n",
        "  meu_set.add(i * 2)\n",
        "\n",
        "meu_set"
      ],
      "metadata": {
        "colab": {
          "base_uri": "https://localhost:8080/"
        },
        "id": "SCjNUOPU1t0_",
        "outputId": "a9ad06d1-fcd4-45fd-e34c-66e97274d006"
      },
      "execution_count": null,
      "outputs": [
        {
          "output_type": "execute_result",
          "data": {
            "text/plain": [
              "{2, 4, 6, 8, 10, 12, 14, 16, 18, 20}"
            ]
          },
          "metadata": {},
          "execution_count": 53
        }
      ]
    },
    {
      "cell_type": "markdown",
      "source": [
        "16. Crie um dicionário com os pares chave-valor 'nome': 'Ana', 'idade': 22, 'curso': 'Engenharia'. Adicione uma nova chave 'universidade': 'USP' ao dicionário. Em seguida, exiba o dicionário completo com todas as informações."
      ],
      "metadata": {
        "id": "tcR74h0d08mF"
      }
    },
    {
      "cell_type": "code",
      "source": [
        "pessoa = {'nome': 'Ana', 'idade': 22, 'curso': 'Engenharia'}\n",
        "pessoa['universidade'] = 'USP'\n",
        "pessoa"
      ],
      "metadata": {
        "colab": {
          "base_uri": "https://localhost:8080/"
        },
        "id": "2ba880HI1tZP",
        "outputId": "90777c5a-6d25-4229-db06-ad54c82a6ea4"
      },
      "execution_count": null,
      "outputs": [
        {
          "output_type": "execute_result",
          "data": {
            "text/plain": [
              "{'nome': 'Ana', 'idade': 22, 'curso': 'Engenharia', 'universidade': 'USP'}"
            ]
          },
          "metadata": {},
          "execution_count": 54
        }
      ]
    },
    {
      "cell_type": "markdown",
      "source": [
        "17. Escreva um programa que percorra um dicionário com várias chaves e valores. Para cada par, imprima a chave e o valor no formato: Chave: X, Valor: Y. O dicionário pode conter qualquer informação que você preferir."
      ],
      "metadata": {
        "id": "KDIanTcy081u"
      }
    },
    {
      "cell_type": "code",
      "source": [
        "pessoa = {'nome': 'Ana', 'idade': 22, 'curso': 'Engenharia', 'universidade': 'USP'}\n",
        "\n",
        "for chave, valor in pessoa.items():\n",
        "  print(f\"Chave: {chave}, Valor: {valor}\")"
      ],
      "metadata": {
        "colab": {
          "base_uri": "https://localhost:8080/"
        },
        "id": "aiiiJoQc1tG3",
        "outputId": "3d25a7b2-3826-40b4-e4a1-270e72976b01"
      },
      "execution_count": null,
      "outputs": [
        {
          "output_type": "stream",
          "name": "stdout",
          "text": [
            "Chave: nome, Valor: Ana\n",
            "Chave: idade, Valor: 22\n",
            "Chave: curso, Valor: Engenharia\n",
            "Chave: universidade, Valor: USP\n"
          ]
        }
      ]
    },
    {
      "cell_type": "markdown",
      "source": [
        "18. Crie um dicionário que relacione nomes de alunos às suas notas. Depois, crie uma função que calcule e exiba a média das notas desses alunos com base nas informações do dicionário."
      ],
      "metadata": {
        "id": "PGTo9JT409Me"
      }
    },
    {
      "cell_type": "code",
      "source": [
        "def calcular_media_notas(notas_alunos):\n",
        "\n",
        "    if not notas_alunos:\n",
        "        print(\"O dicionário de notas dos alunos está vazio.\")\n",
        "        return\n",
        "\n",
        "    soma_notas = sum(notas_alunos.values())\n",
        "    media = soma_notas / len(notas_alunos)\n",
        "    print(f\"A média das notas dos alunos é: {media:.2f}\")\n",
        "\n",
        "notas_alunos = {\"João\": 8.5, \"Maria\": 9.2, \"Pedro\": 7.8, \"Ana\": 6.5}\n",
        "calcular_media_notas(notas_alunos)\n",
        "\n",
        "notas_alunos = {}\n",
        "calcular_media_notas(notas_alunos)"
      ],
      "metadata": {
        "colab": {
          "base_uri": "https://localhost:8080/"
        },
        "id": "3Bb1gk4A1stX",
        "outputId": "b20f7cb4-e81f-446b-92ab-2c012dbb4925"
      },
      "execution_count": null,
      "outputs": [
        {
          "output_type": "stream",
          "name": "stdout",
          "text": [
            "A média das notas dos alunos é: 8.00\n",
            "O dicionário de notas dos alunos está vazio.\n"
          ]
        }
      ]
    },
    {
      "cell_type": "markdown",
      "source": [
        "19. Escreva um programa que permita ao usuário buscar o valor de uma chave específica em um dicionário. Caso a chave não exista, o programa deve exibir uma mensagem dizendo que a chave não foi encontrada. Teste o programa com diferentes chaves."
      ],
      "metadata": {
        "id": "ublB513F09gm"
      }
    },
    {
      "cell_type": "code",
      "source": [
        "def buscar_valor_chave(dicionario, chave):\n",
        "\n",
        "    if chave in dicionario:\n",
        "        print(f\"O valor da chave '{chave}' é: {dicionario[chave]}\")\n",
        "    else:\n",
        "        print(f\"A chave '{chave}' não foi encontrada no dicionário.\")\n",
        "\n",
        "pessoa = {'nome': 'Ana', 'idade': 22, 'curso': 'Engenharia', 'universidade': 'USP'}\n",
        "\n",
        "buscar_valor_chave(pessoa, 'nome')\n",
        "buscar_valor_chave(pessoa, 'cidade')\n",
        "buscar_valor_chave(pessoa, 'idade')\n",
        "buscar_valor_chave(pessoa, 'curso')"
      ],
      "metadata": {
        "colab": {
          "base_uri": "https://localhost:8080/"
        },
        "id": "gsPa0cMO1r7f",
        "outputId": "4a346a37-ed80-473c-d946-3f585adf5d8a"
      },
      "execution_count": null,
      "outputs": [
        {
          "output_type": "stream",
          "name": "stdout",
          "text": [
            "O valor da chave 'nome' é: Ana\n",
            "A chave 'cidade' não foi encontrada no dicionário.\n",
            "O valor da chave 'idade' é: 22\n",
            "O valor da chave 'curso' é: Engenharia\n"
          ]
        }
      ]
    },
    {
      "cell_type": "markdown",
      "source": [
        "20. Dado um dicionário que contém produtos e seus respectivos preços, como {'pão': 2.50, 'leite': 3.00, 'café': 4.50}, permita que o usuário altere o preço de um dos produtos e exiba o dicionário atualizado com o novo valor."
      ],
      "metadata": {
        "id": "Z0wvnxB809zl"
      }
    },
    {
      "cell_type": "code",
      "source": [
        "def atualizar_preco_produto(produtos):\n",
        "    print(\"Produtos disponíveis:\")\n",
        "    for produto, preco in produtos.items():\n",
        "        print(f\"- {produto}: R${preco:.2f}\")\n",
        "\n",
        "    produto_escolhido = input(\"Digite o nome do produto que deseja alterar o preço: \")\n",
        "\n",
        "    if produto_escolhido in produtos:\n",
        "        novo_preco = float(input(f\"Digite o novo preço para {produto_escolhido}: \"))\n",
        "        produtos[produto_escolhido] = novo_preco\n",
        "        print(\"Preço atualizado com sucesso!\")\n",
        "        print(\"Dicionário atualizado:\", produtos)\n",
        "    else:\n",
        "        print(f\"O produto '{produto_escolhido}' não foi encontrado.\")\n",
        "\n",
        "produtos = {'pão': 2.50, 'leite': 3.00, 'café': 4.50}\n",
        "atualizar_preco_produto(produtos)"
      ],
      "metadata": {
        "colab": {
          "base_uri": "https://localhost:8080/"
        },
        "id": "xPrwfAw91rgv",
        "outputId": "e02858c1-c1ee-45ea-bb29-a4b6b2b8c8ab"
      },
      "execution_count": null,
      "outputs": [
        {
          "output_type": "stream",
          "name": "stdout",
          "text": [
            "Produtos disponíveis:\n",
            "- pão: R$2.50\n",
            "- leite: R$3.00\n",
            "- café: R$4.50\n",
            "Digite o nome do produto que deseja alterar o preço: pão\n",
            "Digite o novo preço para pão: 4.50\n",
            "Preço atualizado com sucesso!\n",
            "Dicionário atualizado: {'pão': 4.5, 'leite': 3.0, 'café': 4.5}\n"
          ]
        }
      ]
    }
  ]
}