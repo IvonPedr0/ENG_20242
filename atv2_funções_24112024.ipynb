{
  "cells": [
    {
      "cell_type": "markdown",
      "metadata": {
        "id": "view-in-github",
        "colab_type": "text"
      },
      "source": [
        "<a href=\"https://colab.research.google.com/github/IvonPedr0/ENG_20242/blob/main/atv2_fun%C3%A7%C3%B5es_24112024.ipynb\" target=\"_parent\"><img src=\"https://colab.research.google.com/assets/colab-badge.svg\" alt=\"Open In Colab\"/></a>"
      ]
    },
    {
      "cell_type": "markdown",
      "source": [
        "**Ivon Pedro da Silva Neto - EP10N**"
      ],
      "metadata": {
        "id": "Rlc1TOj9OFot"
      }
    },
    {
      "cell_type": "markdown",
      "source": [
        "# **Atividade 02 - Portfólio Avaliativo - ATÉ 24/11**"
      ],
      "metadata": {
        "id": "SQP40YJhJCo1"
      }
    },
    {
      "cell_type": "markdown",
      "source": [
        "*   Entrando com as listas\n",
        "\n"
      ],
      "metadata": {
        "id": "jj1505PrJLTD"
      }
    },
    {
      "cell_type": "code",
      "source": [
        "# Entradas de listas\n",
        "\n",
        "# Lista Geral int\n",
        "def geral_int():\n",
        "  lista_geral = [1, 2, 3, 3, 4, 5, 6, 6, 7, 8, 9]\n",
        "  return lista_geral\n",
        "\n",
        "# Lista Geral int 2\n",
        "def geral_int2():\n",
        "  lista_geral2 = [1, 2, 3, 5, 7, 11, 13]\n",
        "  return lista_geral2\n",
        "\n",
        "# Lista Geral str\n",
        "def geral_str():\n",
        "  lista_geral = [\"roupa\", \"Carro\", \"Jaula\", \"macaco\", \"tamarindo\", \"Gorro\"]\n",
        "  return lista_geral"
      ],
      "metadata": {
        "id": "P4okKScdJJ8q"
      },
      "execution_count": 2,
      "outputs": []
    },
    {
      "cell_type": "markdown",
      "source": [
        "*   Entrando com as funções por exercício\n",
        "\n"
      ],
      "metadata": {
        "id": "PRzEyBnHJWQr"
      }
    },
    {
      "cell_type": "code",
      "execution_count": 3,
      "metadata": {
        "id": "GSUkgj8WPKPV"
      },
      "outputs": [],
      "source": [
        "# Entrada de funções\n",
        "\n",
        "# 1. Crie uma função que receba uma lista de números e retorne uma lista contendo apenas os números ímpares.\n",
        "def impar(impares):\n",
        "  retorna_impar = geral_int()\n",
        "  for i in range(len(retorna_impar)):\n",
        "    if retorna_impar[i] % 2 != 0:\n",
        "      impares.append(retorna_impar[i])\n",
        "  print(impares)\n",
        "\n",
        "# 2. Escreva uma função que receba uma lista e retorne uma nova lista com o dobro de cada elemento.\n",
        "def dobro():\n",
        "  retorna_dobro = [i*2 for i in geral_int()]\n",
        "  print(retorna_dobro)\n",
        "\n",
        "# 3. Faça uma função que receba uma lista e retorne uma lista sem duplicatas.\n",
        "def sem_dupli(dupli):\n",
        "  dupli = list(set(dupli))\n",
        "  print(dupli)\n",
        "\n",
        "# 4. Crie uma função que receba uma lista e um valor divisor e retorne uma lista dos elementos que são divisíveis pelo divisor.\n",
        "def divide(div_zero):\n",
        "  divisor = int(input(\"Informe o divisor: \"))\n",
        "  for i in range(len(geral_int())):\n",
        "    if geral_int()[i] % divisor == 0:\n",
        "      div_zero.append(geral_int()[i])\n",
        "  print(div_zero)\n",
        "\n",
        "# 5. Escreva uma função que receba duas listas e retorne um conjunto com os elementos que aparecem em ambas.\n",
        "def semelhança(valores_iguais):\n",
        "  for i in range(len(geral_int())):\n",
        "    for j in range(len(geral_int2())):\n",
        "      if geral_int()[i] == geral_int2()[j]:\n",
        "        valores_iguais.append(geral_int()[i])\n",
        "  valores_iguais = list(set(valores_iguais))\n",
        "  print(valores_iguais)\n",
        "\n",
        "# 6. Crie uma função que receba uma lista e retorne uma nova lista com os elementos em ordem inversa.\n",
        "def lista_invertida(inverter):\n",
        "  inverter.reverse()\n",
        "  print(inverter)\n",
        "\n",
        "# 7. Escreva uma função que receba uma lista de números e retorne uma lista contendo o quadrado de cada número.\n",
        "def quadrado(xx2):\n",
        "  for i in range(len(geral_int())):\n",
        "    xx2.append(geral_int()[i]**2)\n",
        "  print(xx2)\n",
        "\n",
        "# 8. Crie uma função que receba uma lista e um valor, e retorne uma lista com os elementos maiores que esse valor.\n",
        "def valor_maior(maiores):\n",
        "  compara_termo = int(input(\"Informe um valor para comparar aos valores da lista e retornar apenas os valores maiores que o fornecido: \"))\n",
        "  for i in range(len(geral_int())):\n",
        "    if compara_termo < geral_int()[i]:\n",
        "      maiores.append(geral_int()[i])\n",
        "  print(maiores)\n",
        "\n",
        "# 9. Escreva uma função que receba duas listas e retorne uma lista dos elementos que estão em apenas uma das listas.\n",
        "def diferença(diferente):\n",
        "  for i in range(len(geral_int())):\n",
        "    for j in range(len(geral_int2())):\n",
        "      if geral_int()[i]!=geral_int2()[j]:\n",
        "        diferente.append(geral_int()[i])\n",
        "        diferente = list(set(diferente))\n",
        "        for i in range(len(geral_int2())):\n",
        "          if geral_int2()[i] in diferente:\n",
        "            diferente.remove(geral_int2()[i])\n",
        "  diferente.sort()\n",
        "  print(diferente)\n",
        "\n",
        "# 10. Faça uma função que receba uma lista e retorne um conjunto dos elementos únicos.\n",
        "def unico(nao_repete):\n",
        "  for i in range(len(geral_int())):\n",
        "    if geral_int().count(geral_int()[i])>1:\n",
        "      nao_repete.remove(geral_int()[i])\n",
        "  print(nao_repete)\n",
        "\n",
        "# 11. Crie uma função que receba duas listas e retorne uma lista dos elementos únicos que estão em ambas.\n",
        "def unico_duplo(soma_unico):\n",
        "  geral1 = geral_int()\n",
        "  geral2 = geral_int2()\n",
        "  iguais = []\n",
        "  set_geral1 = set(geral1)\n",
        "  set_geral2 = set(geral2)\n",
        "  soma_unico = set_geral1.intersection(set_geral2)\n",
        "  for i in range(len(geral_int())):\n",
        "    if geral_int().count(geral_int()[i])>1:\n",
        "      iguais.append(geral_int()[i])\n",
        "  iguais = list(set(iguais))\n",
        "  for i in range(len(iguais)):\n",
        "    if iguais[i] in soma_unico:\n",
        "      soma_unico.remove(iguais[i])\n",
        "  soma_unico = list(set(soma_unico))\n",
        "  return print(list(soma_unico))\n",
        "\n",
        "# 12. Escreva uma função que receba uma lista e retorne uma lista contendo os elementos que aparecem mais de uma vez.\n",
        "def repete(repetidos):\n",
        "  for i in range(len(geral_int())):\n",
        "    if geral_int().count(geral_int()[i])>1:\n",
        "      repetidos.append(geral_int()[i])\n",
        "  repetidos = list(set(repetidos))\n",
        "  print(repetidos)\n",
        "\n",
        "# 13. Faça uma função que receba uma lista de números e retorne uma lista dos números pares.\n",
        "def pares(par):\n",
        "  for i in range(len(geral_int())):\n",
        "    if geral_int()[i]%2==0:\n",
        "      par.append(geral_int()[i])\n",
        "  print(par)\n",
        "\n",
        "# 14. Escreva uma função que receba uma lista de números e um valor, e retorne uma lista com os índices dos elementos maiores que o valor.\n",
        "def indice(maior_indice):\n",
        "  compara_termo = int(input(\"Informe um valor para comparar aos valores da lista e retornar apenas os índices maiores que o fornecido: \"))\n",
        "  for i in range(len(geral_int())):\n",
        "    if compara_termo < i:\n",
        "      maior_indice.append(i)\n",
        "  print(maior_indice)\n",
        "\n",
        "# 15. Crie uma função que receba uma lista de strings e retorne uma lista com o tamanho de cada string.\n",
        "def tamanho(tamanho_str):\n",
        "  for i in range(len(geral_str())):\n",
        "    tamanho_str.append(len(geral_str()[i]))\n",
        "  print(tamanho_str)\n",
        "\n",
        "# 16. Escreva uma função que receba uma lista de números e retorne uma lista contendo cada número elevado ao cubo.\n",
        "def cubo(elev_cubo):\n",
        "  elev_cubo = [i**3 for i in geral_int()]\n",
        "  print(elev_cubo)\n",
        "\n",
        "# 17. Crie uma função que receba uma lista e retorne uma lista de todos os elementos únicos.\n",
        "def lista_unicos(ele_unicos):\n",
        "  iguais = []\n",
        "  for i in range(len(geral_int())):\n",
        "    if geral_int().count(geral_int()[i])>1:\n",
        "      iguais.append(geral_int()[i])\n",
        "  for i in range(len(geral_int())):\n",
        "      if geral_int()[i] not in iguais:\n",
        "          ele_unicos.append(geral_int()[i])\n",
        "  print(ele_unicos)\n",
        "\n",
        "# 18. Escreva uma função que receba uma lista de strings e retorne uma lista contendo as strings que começam com uma letra maiúscula.\n",
        "def maiuscula(str_maiuscula):\n",
        "  for i in range(len(geral_str())):\n",
        "    if geral_str()[i][0].isupper():\n",
        "      str_maiuscula.append(geral_str()[i])\n",
        "  print(str_maiuscula)\n",
        "\n",
        "# 19. Faça uma função que receba uma lista de números e retorne uma lista contendo apenas os múltiplos de 3.\n",
        "def multiplo(multiplo_3):\n",
        "  multiplo_3 = [i for i in geral_int() if i%3==0]\n",
        "  print(multiplo_3)\n",
        "\n",
        "# 20. Escreva uma função que receba duas listas e retorne uma lista com a interseção ordenada de forma crescente entre elas.\n",
        "def interseçao(interseçao_lista):\n",
        "  geral1 = geral_int()\n",
        "  geral2 = geral_int2()\n",
        "  set_geral1 = set(geral1)\n",
        "  set_geral2 = set(geral2)\n",
        "  interseçao_lista = set_geral1.intersection(set_geral2)\n",
        "  interseçao_lista = list(interseçao_lista)\n",
        "  interseçao_lista.sort()\n",
        "  print(interseçao_lista)"
      ]
    },
    {
      "cell_type": "markdown",
      "source": [
        "*   Executando as funções por exercício\n",
        "\n"
      ],
      "metadata": {
        "id": "piehMv5dJesK"
      }
    },
    {
      "cell_type": "markdown",
      "source": [
        "1. Crie uma função que receba uma lista de números e retorne uma lista contendo apenas os números ímpares."
      ],
      "metadata": {
        "id": "gtnOMz3ZJnoj"
      }
    },
    {
      "cell_type": "code",
      "execution_count": 4,
      "metadata": {
        "colab": {
          "base_uri": "https://localhost:8080/"
        },
        "id": "LH_-u50CR4pt",
        "outputId": "1055903f-0388-4fd5-95cf-d61fe27eddc1"
      },
      "outputs": [
        {
          "output_type": "stream",
          "name": "stdout",
          "text": [
            "[1, 3, 3, 5, 7, 9]\n"
          ]
        }
      ],
      "source": [
        "impares = []\n",
        "impar(impares)"
      ]
    },
    {
      "cell_type": "markdown",
      "source": [
        "2. Escreva uma função que receba uma lista e retorne uma nova lista com o dobro de cada elemento."
      ],
      "metadata": {
        "id": "FhoHQ4wdKz7q"
      }
    },
    {
      "cell_type": "code",
      "execution_count": 5,
      "metadata": {
        "colab": {
          "base_uri": "https://localhost:8080/"
        },
        "id": "38vFf_6rWb7_",
        "outputId": "13958d03-4de0-4326-df4b-02faa2e50084"
      },
      "outputs": [
        {
          "output_type": "stream",
          "name": "stdout",
          "text": [
            "[2, 4, 6, 6, 8, 10, 12, 12, 14, 16, 18]\n"
          ]
        }
      ],
      "source": [
        "retorna_dobro = geral_int()\n",
        "dobro()"
      ]
    },
    {
      "cell_type": "markdown",
      "source": [
        "3. Faça uma função que receba uma lista e retorne uma lista sem duplicatas."
      ],
      "metadata": {
        "id": "rukr29ZvK1rk"
      }
    },
    {
      "cell_type": "code",
      "execution_count": 6,
      "metadata": {
        "colab": {
          "base_uri": "https://localhost:8080/"
        },
        "id": "5lkNRYOtX6Vq",
        "outputId": "b9e73783-0fcc-45d1-b17b-b5d1783c7223"
      },
      "outputs": [
        {
          "output_type": "stream",
          "name": "stdout",
          "text": [
            "[1, 2, 3, 4, 5, 6, 7, 8, 9]\n"
          ]
        }
      ],
      "source": [
        "dupli = geral_int()\n",
        "sem_dupli(dupli)"
      ]
    },
    {
      "cell_type": "markdown",
      "source": [
        "4. Crie uma função que receba uma lista e um valor divisor e retorne uma lista dos elementos que são divisíveis pelo divisor."
      ],
      "metadata": {
        "id": "yaXDgPu2K2OC"
      }
    },
    {
      "cell_type": "code",
      "execution_count": 8,
      "metadata": {
        "id": "AxQYo1Eues_c",
        "colab": {
          "base_uri": "https://localhost:8080/"
        },
        "outputId": "549c3a4d-f023-4f5e-a404-071891550b56"
      },
      "outputs": [
        {
          "output_type": "stream",
          "name": "stdout",
          "text": [
            "Informe o divisor: 2\n",
            "[2, 4, 6, 6, 8]\n"
          ]
        }
      ],
      "source": [
        "div_zero = []\n",
        "divide(div_zero)"
      ]
    },
    {
      "cell_type": "markdown",
      "source": [
        "5. Escreva uma função que receba duas listas e retorne um conjunto com os elementos que aparecem em ambas."
      ],
      "metadata": {
        "id": "mAhG9oqQLEjx"
      }
    },
    {
      "cell_type": "code",
      "execution_count": 9,
      "metadata": {
        "id": "fPVTXcesetGi",
        "colab": {
          "base_uri": "https://localhost:8080/"
        },
        "outputId": "9c4ba9fe-44bc-4657-9faa-0b70cafc5215"
      },
      "outputs": [
        {
          "output_type": "stream",
          "name": "stdout",
          "text": [
            "[1, 2, 3, 5, 7]\n"
          ]
        }
      ],
      "source": [
        "valores_iguais = []\n",
        "semelhança(valores_iguais)"
      ]
    },
    {
      "cell_type": "markdown",
      "source": [
        "6. Crie uma função que receba uma lista e retorne uma nova lista com os elementos em ordem inversa."
      ],
      "metadata": {
        "id": "W5BrR7sZMLdS"
      }
    },
    {
      "cell_type": "code",
      "execution_count": 10,
      "metadata": {
        "id": "SM2RV-bTetNz",
        "colab": {
          "base_uri": "https://localhost:8080/"
        },
        "outputId": "d62bc069-4c6c-4543-87a1-a03b43180c88"
      },
      "outputs": [
        {
          "output_type": "stream",
          "name": "stdout",
          "text": [
            "[9, 8, 7, 6, 6, 5, 4, 3, 3, 2, 1]\n"
          ]
        }
      ],
      "source": [
        "inverter = geral_int()\n",
        "lista_invertida(inverter)"
      ]
    },
    {
      "cell_type": "markdown",
      "source": [
        "7. Escreva uma função que receba uma lista de números e retorne uma lista contendo o quadrado de cada número."
      ],
      "metadata": {
        "id": "Ug33Tl2QMPnx"
      }
    },
    {
      "cell_type": "code",
      "execution_count": 11,
      "metadata": {
        "id": "VVqG6HWPetUi",
        "colab": {
          "base_uri": "https://localhost:8080/"
        },
        "outputId": "35518893-8982-40d7-b9a6-8199b5730a0e"
      },
      "outputs": [
        {
          "output_type": "stream",
          "name": "stdout",
          "text": [
            "[1, 4, 9, 9, 16, 25, 36, 36, 49, 64, 81]\n"
          ]
        }
      ],
      "source": [
        "xx2 = []\n",
        "quadrado(xx2)"
      ]
    },
    {
      "cell_type": "markdown",
      "source": [
        "8. Crie uma função que receba uma lista e um valor, e retorne uma lista com os elementos maiores que esse valor."
      ],
      "metadata": {
        "id": "vPcrbxoyMWNR"
      }
    },
    {
      "cell_type": "code",
      "execution_count": 24,
      "metadata": {
        "id": "k-9zJ1zOetba",
        "colab": {
          "base_uri": "https://localhost:8080/"
        },
        "outputId": "f7d338ed-fb2d-4bbe-a692-c0d5524a88e5"
      },
      "outputs": [
        {
          "output_type": "stream",
          "name": "stdout",
          "text": [
            "Informe um valor para comparar aos valores da lista e retornar apenas os valores maiores que o fornecido: 2\n",
            "[3, 3, 4, 5, 6, 6, 7, 8, 9]\n"
          ]
        }
      ],
      "source": [
        "maiores = []\n",
        "valor_maior(maiores)"
      ]
    },
    {
      "cell_type": "markdown",
      "source": [
        "9. Escreva uma função que receba duas listas e retorne uma lista dos elementos que estão em apenas uma das listas."
      ],
      "metadata": {
        "id": "pElnklPGMoIa"
      }
    },
    {
      "cell_type": "code",
      "execution_count": 23,
      "metadata": {
        "id": "dlsO6wF6etjS",
        "colab": {
          "base_uri": "https://localhost:8080/"
        },
        "outputId": "c488eb3c-4a4a-4ec9-e268-9e94b7fcf8cd"
      },
      "outputs": [
        {
          "output_type": "stream",
          "name": "stdout",
          "text": [
            "[4, 6, 8, 9]\n"
          ]
        }
      ],
      "source": [
        "diferente = []\n",
        "diferença(diferente)"
      ]
    },
    {
      "cell_type": "markdown",
      "source": [
        "10. Faça uma função que receba uma lista e retorne um conjunto dos elementos únicos."
      ],
      "metadata": {
        "id": "KbNkXzsQMrzi"
      }
    },
    {
      "cell_type": "code",
      "execution_count": 22,
      "metadata": {
        "id": "gd-dLf7Yetqi",
        "colab": {
          "base_uri": "https://localhost:8080/"
        },
        "outputId": "fc5c6efc-65ff-44f1-ff3d-3d4a8484666a"
      },
      "outputs": [
        {
          "output_type": "stream",
          "name": "stdout",
          "text": [
            "[1, 2, 4, 5, 7, 8, 9]\n"
          ]
        }
      ],
      "source": [
        "nao_repete = geral_int()\n",
        "unico(nao_repete)"
      ]
    },
    {
      "cell_type": "markdown",
      "source": [
        "11. Crie uma função que receba duas listas e retorne uma lista dos elementos únicos que estão em ambas."
      ],
      "metadata": {
        "id": "cAXwePvVMvER"
      }
    },
    {
      "cell_type": "code",
      "execution_count": 21,
      "metadata": {
        "id": "2HJUyA3Yetxi",
        "colab": {
          "base_uri": "https://localhost:8080/"
        },
        "outputId": "05d15892-a000-4da0-b4f4-bfe73a209e83"
      },
      "outputs": [
        {
          "output_type": "stream",
          "name": "stdout",
          "text": [
            "[1, 2, 5, 7]\n"
          ]
        }
      ],
      "source": [
        "soma_unico = []\n",
        "unico_duplo(soma_unico)"
      ]
    },
    {
      "cell_type": "markdown",
      "source": [
        "12. Escreva uma função que receba uma lista e retorne uma lista contendo os elementos que aparecem mais de uma vez."
      ],
      "metadata": {
        "id": "V0WP6kCwMzcJ"
      }
    },
    {
      "cell_type": "code",
      "execution_count": 20,
      "metadata": {
        "id": "A9DR76zset4z",
        "colab": {
          "base_uri": "https://localhost:8080/"
        },
        "outputId": "cb6ca756-65bb-49d3-9ab9-cd8abd5d6a6d"
      },
      "outputs": [
        {
          "output_type": "stream",
          "name": "stdout",
          "text": [
            "[3, 6]\n"
          ]
        }
      ],
      "source": [
        "repetidos = []\n",
        "repete(repetidos)"
      ]
    },
    {
      "cell_type": "markdown",
      "source": [
        "13. Faça uma função que receba uma lista de números e retorne uma lista dos números pares."
      ],
      "metadata": {
        "id": "guGMM6JCM3Yx"
      }
    },
    {
      "cell_type": "code",
      "execution_count": 19,
      "metadata": {
        "id": "geXKAw2set_z",
        "colab": {
          "base_uri": "https://localhost:8080/"
        },
        "outputId": "daca47f6-fc06-4d76-f13d-e6d46ce3f5a2"
      },
      "outputs": [
        {
          "output_type": "stream",
          "name": "stdout",
          "text": [
            "[2, 4, 6, 6, 8]\n"
          ]
        }
      ],
      "source": [
        "par = []\n",
        "pares(par)"
      ]
    },
    {
      "cell_type": "markdown",
      "source": [
        "14. Escreva uma função que receba uma lista de números e um valor, e retorne uma lista com os índices dos elementos maiores que o valor."
      ],
      "metadata": {
        "id": "uVlwOzcQM6e5"
      }
    },
    {
      "cell_type": "code",
      "execution_count": 18,
      "metadata": {
        "id": "JaoN-qqQeuGa",
        "colab": {
          "base_uri": "https://localhost:8080/"
        },
        "outputId": "0a72ccdf-988b-4923-8b22-171c0d3e6121"
      },
      "outputs": [
        {
          "output_type": "stream",
          "name": "stdout",
          "text": [
            "Informe um valor para comparar aos valores da lista e retornar apenas os índices maiores que o fornecido: 4\n",
            "[5, 6, 7, 8, 9, 10]\n"
          ]
        }
      ],
      "source": [
        "maior_indice = []\n",
        "indice(maior_indice)"
      ]
    },
    {
      "cell_type": "markdown",
      "source": [
        "15. Crie uma função que receba uma lista de strings e retorne uma lista com o tamanho de cada string."
      ],
      "metadata": {
        "id": "5Dz2dUvxM_1j"
      }
    },
    {
      "cell_type": "code",
      "execution_count": 17,
      "metadata": {
        "id": "TyUa0Wi4euOC",
        "colab": {
          "base_uri": "https://localhost:8080/"
        },
        "outputId": "4fe4dc02-09bc-40b5-b9df-85d941a709cc"
      },
      "outputs": [
        {
          "output_type": "stream",
          "name": "stdout",
          "text": [
            "[5, 5, 5, 6, 9, 5]\n"
          ]
        }
      ],
      "source": [
        "tamanho_str = []\n",
        "tamanho(tamanho_str)"
      ]
    },
    {
      "cell_type": "markdown",
      "source": [
        "16. Escreva uma função que receba uma lista de números e retorne uma lista contendo cada número elevado ao cubo."
      ],
      "metadata": {
        "id": "Ajvwg2oYNDtY"
      }
    },
    {
      "cell_type": "code",
      "execution_count": 16,
      "metadata": {
        "id": "sjD1hiCjeuVK",
        "colab": {
          "base_uri": "https://localhost:8080/"
        },
        "outputId": "4c0edd59-dd9b-4b97-b6fe-e0183c256a03"
      },
      "outputs": [
        {
          "output_type": "stream",
          "name": "stdout",
          "text": [
            "[1, 8, 27, 27, 64, 125, 216, 216, 343, 512, 729]\n"
          ]
        }
      ],
      "source": [
        "elev_cubo = []\n",
        "cubo(elev_cubo)"
      ]
    },
    {
      "cell_type": "markdown",
      "source": [
        "17. Crie uma função que receba uma lista e retorne uma lista de todos os elementos únicos."
      ],
      "metadata": {
        "id": "eqvfhqm1NGjp"
      }
    },
    {
      "cell_type": "code",
      "execution_count": 15,
      "metadata": {
        "id": "a_a4pZnJeuc7",
        "colab": {
          "base_uri": "https://localhost:8080/"
        },
        "outputId": "33ff7474-4185-4f6a-d5a6-5d1ab0a067a0"
      },
      "outputs": [
        {
          "output_type": "stream",
          "name": "stdout",
          "text": [
            "[1, 2, 4, 5, 7, 8, 9]\n"
          ]
        }
      ],
      "source": [
        "ele_unicos = []\n",
        "lista_unicos(ele_unicos)"
      ]
    },
    {
      "cell_type": "markdown",
      "source": [
        "18. Escreva uma função que receba uma lista de strings e retorne uma lista contendo as strings que começam com uma letra maiúscula."
      ],
      "metadata": {
        "id": "tIO9C0qsNJQa"
      }
    },
    {
      "cell_type": "code",
      "execution_count": 14,
      "metadata": {
        "id": "eaEz7bkveulF",
        "colab": {
          "base_uri": "https://localhost:8080/"
        },
        "outputId": "b090c27e-0a26-4670-9294-c8c84713a884"
      },
      "outputs": [
        {
          "output_type": "stream",
          "name": "stdout",
          "text": [
            "['Carro', 'Jaula', 'Gorro']\n"
          ]
        }
      ],
      "source": [
        "str_maiuscula = []\n",
        "maiuscula(str_maiuscula)"
      ]
    },
    {
      "cell_type": "markdown",
      "source": [
        "19. Faça uma função que receba uma lista de números e retorne uma lista contendo apenas os múltiplos de 3."
      ],
      "metadata": {
        "id": "vClbV1I3NMVx"
      }
    },
    {
      "cell_type": "code",
      "execution_count": 13,
      "metadata": {
        "id": "v4G4tJf3eusT",
        "colab": {
          "base_uri": "https://localhost:8080/"
        },
        "outputId": "013b1dff-4cda-45e9-8e8d-88fccfb5d458"
      },
      "outputs": [
        {
          "output_type": "stream",
          "name": "stdout",
          "text": [
            "[3, 3, 6, 6, 9]\n"
          ]
        }
      ],
      "source": [
        "multiplo_3 = []\n",
        "multiplo(multiplo_3)"
      ]
    },
    {
      "cell_type": "markdown",
      "source": [
        "20. Escreva uma função que receba duas listas e retorne uma lista com a interseção ordenada de forma crescente entre elas."
      ],
      "metadata": {
        "id": "XbRqxnP-NO9B"
      }
    },
    {
      "cell_type": "code",
      "execution_count": 12,
      "metadata": {
        "id": "wPLGsdHZeuzz",
        "colab": {
          "base_uri": "https://localhost:8080/"
        },
        "outputId": "cb836c96-344b-42f2-e99c-1ea76315f533"
      },
      "outputs": [
        {
          "output_type": "stream",
          "name": "stdout",
          "text": [
            "[1, 2, 3, 5, 7]\n"
          ]
        }
      ],
      "source": [
        "interseçao_lista = []\n",
        "interseçao(interseçao_lista)"
      ]
    }
  ],
  "metadata": {
    "colab": {
      "provenance": [],
      "include_colab_link": true
    },
    "kernelspec": {
      "display_name": "Python 3",
      "name": "python3"
    },
    "language_info": {
      "name": "python"
    }
  },
  "nbformat": 4,
  "nbformat_minor": 0
}